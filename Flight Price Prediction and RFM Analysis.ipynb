{
 "cells": [
  {
   "cell_type": "code",
   "execution_count": 52,
   "id": "c30e1020",
   "metadata": {},
   "outputs": [],
   "source": [
    "import pandas as pd\n",
    "import numpy as np\n",
    "import warnings\n",
    "warnings.filterwarnings(\"ignore\") \n",
    "\n",
    "import matplotlib.pyplot as plt\n",
    "import seaborn as sns\n",
    "import plotly.express as px\n",
    "\n",
    "import pickle\n",
    "from sklearn.preprocessing import LabelEncoder\n",
    "from sklearn.model_selection import train_test_split\n",
    "\n",
    "from sklearn.linear_model import LinearRegression, Ridge, Lasso, SGDRegressor\n",
    "from sklearn.tree import DecisionTreeRegressor\n",
    "from sklearn.ensemble import RandomForestRegressor, AdaBoostRegressor, GradientBoostingRegressor,ExtraTreesRegressor\n",
    "from catboost import CatBoostRegressor"
   ]
  },
  {
   "cell_type": "code",
   "execution_count": 2,
   "id": "3c2c6f36",
   "metadata": {},
   "outputs": [],
   "source": [
    "flight_df = pd.read_excel(r\"C:\\Users\\sandi\\Downloads\\Flight_Price_Train.xlsx\")"
   ]
  },
  {
   "cell_type": "markdown",
   "id": "298e28ef",
   "metadata": {},
   "source": [
    "# Question 1:"
   ]
  },
  {
   "cell_type": "markdown",
   "id": "e251c2fb",
   "metadata": {},
   "source": [
    "# Perform Feature Engineering "
   ]
  },
  {
   "cell_type": "code",
   "execution_count": 3,
   "id": "3d89c506",
   "metadata": {},
   "outputs": [
    {
     "data": {
      "text/html": [
       "<div>\n",
       "<style scoped>\n",
       "    .dataframe tbody tr th:only-of-type {\n",
       "        vertical-align: middle;\n",
       "    }\n",
       "\n",
       "    .dataframe tbody tr th {\n",
       "        vertical-align: top;\n",
       "    }\n",
       "\n",
       "    .dataframe thead th {\n",
       "        text-align: right;\n",
       "    }\n",
       "</style>\n",
       "<table border=\"1\" class=\"dataframe\">\n",
       "  <thead>\n",
       "    <tr style=\"text-align: right;\">\n",
       "      <th></th>\n",
       "      <th>Airline</th>\n",
       "      <th>Date_of_Journey</th>\n",
       "      <th>Source</th>\n",
       "      <th>Destination</th>\n",
       "      <th>Route</th>\n",
       "      <th>Dep_Time</th>\n",
       "      <th>Arrival_Time</th>\n",
       "      <th>Duration</th>\n",
       "      <th>Total_Stops</th>\n",
       "      <th>Additional_Info</th>\n",
       "      <th>Price</th>\n",
       "    </tr>\n",
       "  </thead>\n",
       "  <tbody>\n",
       "    <tr>\n",
       "      <th>0</th>\n",
       "      <td>IndiGo</td>\n",
       "      <td>24/03/2019</td>\n",
       "      <td>Banglore</td>\n",
       "      <td>New Delhi</td>\n",
       "      <td>BLR → DEL</td>\n",
       "      <td>22:20</td>\n",
       "      <td>01:10 22 Mar</td>\n",
       "      <td>2h 50m</td>\n",
       "      <td>non-stop</td>\n",
       "      <td>No info</td>\n",
       "      <td>3897</td>\n",
       "    </tr>\n",
       "    <tr>\n",
       "      <th>1</th>\n",
       "      <td>Air India</td>\n",
       "      <td>1/05/2019</td>\n",
       "      <td>Kolkata</td>\n",
       "      <td>Banglore</td>\n",
       "      <td>CCU → IXR → BBI → BLR</td>\n",
       "      <td>05:50</td>\n",
       "      <td>13:15</td>\n",
       "      <td>7h 25m</td>\n",
       "      <td>2 stops</td>\n",
       "      <td>No info</td>\n",
       "      <td>7662</td>\n",
       "    </tr>\n",
       "    <tr>\n",
       "      <th>2</th>\n",
       "      <td>Jet Airways</td>\n",
       "      <td>9/06/2019</td>\n",
       "      <td>Delhi</td>\n",
       "      <td>Cochin</td>\n",
       "      <td>DEL → LKO → BOM → COK</td>\n",
       "      <td>09:25</td>\n",
       "      <td>04:25 10 Jun</td>\n",
       "      <td>19h</td>\n",
       "      <td>2 stops</td>\n",
       "      <td>No info</td>\n",
       "      <td>13882</td>\n",
       "    </tr>\n",
       "    <tr>\n",
       "      <th>3</th>\n",
       "      <td>IndiGo</td>\n",
       "      <td>12/05/2019</td>\n",
       "      <td>Kolkata</td>\n",
       "      <td>Banglore</td>\n",
       "      <td>CCU → NAG → BLR</td>\n",
       "      <td>18:05</td>\n",
       "      <td>23:30</td>\n",
       "      <td>5h 25m</td>\n",
       "      <td>1 stop</td>\n",
       "      <td>No info</td>\n",
       "      <td>6218</td>\n",
       "    </tr>\n",
       "    <tr>\n",
       "      <th>4</th>\n",
       "      <td>IndiGo</td>\n",
       "      <td>01/03/2019</td>\n",
       "      <td>Banglore</td>\n",
       "      <td>New Delhi</td>\n",
       "      <td>BLR → NAG → DEL</td>\n",
       "      <td>16:50</td>\n",
       "      <td>21:35</td>\n",
       "      <td>4h 45m</td>\n",
       "      <td>1 stop</td>\n",
       "      <td>No info</td>\n",
       "      <td>13302</td>\n",
       "    </tr>\n",
       "  </tbody>\n",
       "</table>\n",
       "</div>"
      ],
      "text/plain": [
       "       Airline Date_of_Journey    Source Destination                  Route  \\\n",
       "0       IndiGo      24/03/2019  Banglore   New Delhi              BLR → DEL   \n",
       "1    Air India       1/05/2019   Kolkata    Banglore  CCU → IXR → BBI → BLR   \n",
       "2  Jet Airways       9/06/2019     Delhi      Cochin  DEL → LKO → BOM → COK   \n",
       "3       IndiGo      12/05/2019   Kolkata    Banglore        CCU → NAG → BLR   \n",
       "4       IndiGo      01/03/2019  Banglore   New Delhi        BLR → NAG → DEL   \n",
       "\n",
       "  Dep_Time  Arrival_Time Duration Total_Stops Additional_Info  Price  \n",
       "0    22:20  01:10 22 Mar   2h 50m    non-stop         No info   3897  \n",
       "1    05:50         13:15   7h 25m     2 stops         No info   7662  \n",
       "2    09:25  04:25 10 Jun      19h     2 stops         No info  13882  \n",
       "3    18:05         23:30   5h 25m      1 stop         No info   6218  \n",
       "4    16:50         21:35   4h 45m      1 stop         No info  13302  "
      ]
     },
     "metadata": {},
     "output_type": "display_data"
    }
   ],
   "source": [
    "# displaying top 5 records\n",
    "display(flight_df.head(5))"
   ]
  },
  {
   "cell_type": "code",
   "execution_count": 4,
   "id": "6788c638",
   "metadata": {},
   "outputs": [
    {
     "name": "stdout",
     "output_type": "stream",
     "text": [
      "Shape of train data is (10683, 11)\n"
     ]
    }
   ],
   "source": [
    "# showing shape of the data\n",
    "print(f\"Shape of train data is {flight_df.shape}\")"
   ]
  },
  {
   "cell_type": "code",
   "execution_count": 5,
   "id": "f640aa9d",
   "metadata": {},
   "outputs": [
    {
     "data": {
      "text/html": [
       "<div>\n",
       "<style scoped>\n",
       "    .dataframe tbody tr th:only-of-type {\n",
       "        vertical-align: middle;\n",
       "    }\n",
       "\n",
       "    .dataframe tbody tr th {\n",
       "        vertical-align: top;\n",
       "    }\n",
       "\n",
       "    .dataframe thead th {\n",
       "        text-align: right;\n",
       "    }\n",
       "</style>\n",
       "<table border=\"1\" class=\"dataframe\">\n",
       "  <thead>\n",
       "    <tr style=\"text-align: right;\">\n",
       "      <th></th>\n",
       "      <th>count</th>\n",
       "      <th>mean</th>\n",
       "      <th>std</th>\n",
       "      <th>min</th>\n",
       "      <th>25%</th>\n",
       "      <th>50%</th>\n",
       "      <th>75%</th>\n",
       "      <th>max</th>\n",
       "    </tr>\n",
       "  </thead>\n",
       "  <tbody>\n",
       "    <tr>\n",
       "      <th>Price</th>\n",
       "      <td>10683.0</td>\n",
       "      <td>9087.064121</td>\n",
       "      <td>4611.359167</td>\n",
       "      <td>1759.0</td>\n",
       "      <td>5277.0</td>\n",
       "      <td>8372.0</td>\n",
       "      <td>12373.0</td>\n",
       "      <td>79512.0</td>\n",
       "    </tr>\n",
       "  </tbody>\n",
       "</table>\n",
       "</div>"
      ],
      "text/plain": [
       "         count         mean          std     min     25%     50%      75%  \\\n",
       "Price  10683.0  9087.064121  4611.359167  1759.0  5277.0  8372.0  12373.0   \n",
       "\n",
       "           max  \n",
       "Price  79512.0  "
      ]
     },
     "execution_count": 5,
     "metadata": {},
     "output_type": "execute_result"
    }
   ],
   "source": [
    "# Statistical info for numeric column\n",
    "flight_df.describe().T\n",
    "# 75th percentile in price is 12373 and max is 79512 that means data has some outliers"
   ]
  },
  {
   "cell_type": "code",
   "execution_count": 6,
   "id": "9bf2f34b",
   "metadata": {},
   "outputs": [
    {
     "data": {
      "text/html": [
       "<div>\n",
       "<style scoped>\n",
       "    .dataframe tbody tr th:only-of-type {\n",
       "        vertical-align: middle;\n",
       "    }\n",
       "\n",
       "    .dataframe tbody tr th {\n",
       "        vertical-align: top;\n",
       "    }\n",
       "\n",
       "    .dataframe thead th {\n",
       "        text-align: right;\n",
       "    }\n",
       "</style>\n",
       "<table border=\"1\" class=\"dataframe\">\n",
       "  <thead>\n",
       "    <tr style=\"text-align: right;\">\n",
       "      <th></th>\n",
       "      <th>Airline</th>\n",
       "      <th>Date_of_Journey</th>\n",
       "      <th>Source</th>\n",
       "      <th>Destination</th>\n",
       "      <th>Route</th>\n",
       "      <th>Dep_Time</th>\n",
       "      <th>Arrival_Time</th>\n",
       "      <th>Duration</th>\n",
       "      <th>Total_Stops</th>\n",
       "      <th>Additional_Info</th>\n",
       "    </tr>\n",
       "  </thead>\n",
       "  <tbody>\n",
       "    <tr>\n",
       "      <th>count</th>\n",
       "      <td>10683</td>\n",
       "      <td>10683</td>\n",
       "      <td>10683</td>\n",
       "      <td>10683</td>\n",
       "      <td>10682</td>\n",
       "      <td>10683</td>\n",
       "      <td>10683</td>\n",
       "      <td>10683</td>\n",
       "      <td>10682</td>\n",
       "      <td>10683</td>\n",
       "    </tr>\n",
       "    <tr>\n",
       "      <th>unique</th>\n",
       "      <td>12</td>\n",
       "      <td>44</td>\n",
       "      <td>5</td>\n",
       "      <td>6</td>\n",
       "      <td>128</td>\n",
       "      <td>222</td>\n",
       "      <td>1343</td>\n",
       "      <td>368</td>\n",
       "      <td>5</td>\n",
       "      <td>10</td>\n",
       "    </tr>\n",
       "    <tr>\n",
       "      <th>top</th>\n",
       "      <td>Jet Airways</td>\n",
       "      <td>18/05/2019</td>\n",
       "      <td>Delhi</td>\n",
       "      <td>Cochin</td>\n",
       "      <td>DEL → BOM → COK</td>\n",
       "      <td>18:55</td>\n",
       "      <td>19:00</td>\n",
       "      <td>2h 50m</td>\n",
       "      <td>1 stop</td>\n",
       "      <td>No info</td>\n",
       "    </tr>\n",
       "    <tr>\n",
       "      <th>freq</th>\n",
       "      <td>3849</td>\n",
       "      <td>504</td>\n",
       "      <td>4537</td>\n",
       "      <td>4537</td>\n",
       "      <td>2376</td>\n",
       "      <td>233</td>\n",
       "      <td>423</td>\n",
       "      <td>550</td>\n",
       "      <td>5625</td>\n",
       "      <td>8345</td>\n",
       "    </tr>\n",
       "  </tbody>\n",
       "</table>\n",
       "</div>"
      ],
      "text/plain": [
       "            Airline Date_of_Journey Source Destination            Route  \\\n",
       "count         10683           10683  10683       10683            10682   \n",
       "unique           12              44      5           6              128   \n",
       "top     Jet Airways      18/05/2019  Delhi      Cochin  DEL → BOM → COK   \n",
       "freq           3849             504   4537        4537             2376   \n",
       "\n",
       "       Dep_Time Arrival_Time Duration Total_Stops Additional_Info  \n",
       "count     10683        10683    10683       10682           10683  \n",
       "unique      222         1343      368           5              10  \n",
       "top       18:55        19:00   2h 50m      1 stop         No info  \n",
       "freq        233          423      550        5625            8345  "
      ]
     },
     "execution_count": 6,
     "metadata": {},
     "output_type": "execute_result"
    }
   ],
   "source": [
    "# Checking descriptive statistics for categorical columns\n",
    "flight_df.describe(include = 'object')\n",
    "# In Airline, Jet Airways flights have more frequency\n",
    "# most of the flights are boarded from Delhi and destination is Cochin"
   ]
  },
  {
   "cell_type": "code",
   "execution_count": 7,
   "id": "0b2e9341",
   "metadata": {},
   "outputs": [
    {
     "data": {
      "text/plain": [
       "220"
      ]
     },
     "execution_count": 7,
     "metadata": {},
     "output_type": "execute_result"
    }
   ],
   "source": [
    "flight_df.duplicated().sum()"
   ]
  },
  {
   "cell_type": "code",
   "execution_count": 8,
   "id": "6ea3ec75",
   "metadata": {},
   "outputs": [],
   "source": [
    "# removing duplicate records\n",
    "flight_df.drop_duplicates(inplace=True)"
   ]
  },
  {
   "cell_type": "code",
   "execution_count": 9,
   "id": "e8326635",
   "metadata": {},
   "outputs": [
    {
     "data": {
      "text/plain": [
       "Route          1\n",
       "Total_Stops    1\n",
       "dtype: int64"
      ]
     },
     "execution_count": 9,
     "metadata": {},
     "output_type": "execute_result"
    }
   ],
   "source": [
    "#Column wise Null values \n",
    "flight_df.isnull().sum()[flight_df.isnull().sum()>0]\n",
    "\n",
    "# route and Total_stops have 1 null values"
   ]
  },
  {
   "cell_type": "code",
   "execution_count": 10,
   "id": "122f1dba",
   "metadata": {},
   "outputs": [],
   "source": [
    "# removing nulls\n",
    "flight_df.dropna(inplace=True)"
   ]
  },
  {
   "cell_type": "code",
   "execution_count": 11,
   "id": "c722846c",
   "metadata": {},
   "outputs": [
    {
     "name": "stdout",
     "output_type": "stream",
     "text": [
      "After removing nulls and duplicate shape of the dataframe is (10462, 11)\n"
     ]
    }
   ],
   "source": [
    "# after removing nulls and duplicate\n",
    "print(f\"After removing nulls and duplicate shape of the dataframe is {flight_df.shape}\")"
   ]
  },
  {
   "cell_type": "markdown",
   "id": "a6e8329a",
   "metadata": {},
   "source": [
    "## b) Extract Date, Month, Year from Date of Journey"
   ]
  },
  {
   "cell_type": "code",
   "execution_count": 12,
   "id": "b761d848",
   "metadata": {},
   "outputs": [
    {
     "data": {
      "text/plain": [
       "dtype('O')"
      ]
     },
     "execution_count": 12,
     "metadata": {},
     "output_type": "execute_result"
    }
   ],
   "source": [
    "# Checking datatype of Date_of_Journey\n",
    "flight_df.Date_of_Journey.dtype\n",
    "# datatype is object \n"
   ]
  },
  {
   "cell_type": "code",
   "execution_count": 13,
   "id": "6f781871",
   "metadata": {},
   "outputs": [],
   "source": [
    "# converting datatype of Date_of_Journey to datatime format\n",
    "flight_df.Date_of_Journey = pd.to_datetime(flight_df.Date_of_Journey, errors='coerce', format='%d/%m/%Y')"
   ]
  },
  {
   "cell_type": "code",
   "execution_count": 14,
   "id": "12251616",
   "metadata": {},
   "outputs": [
    {
     "data": {
      "text/plain": [
       "0       2019-03-24\n",
       "1       2019-05-01\n",
       "2       2019-06-09\n",
       "3       2019-05-12\n",
       "4       2019-03-01\n",
       "           ...    \n",
       "10678   2019-04-09\n",
       "10679   2019-04-27\n",
       "10680   2019-04-27\n",
       "10681   2019-03-01\n",
       "10682   2019-05-09\n",
       "Name: Date_of_Journey, Length: 10462, dtype: datetime64[ns]"
      ]
     },
     "execution_count": 14,
     "metadata": {},
     "output_type": "execute_result"
    }
   ],
   "source": [
    "flight_df.Date_of_Journey\n",
    "# Datatype is now datetime"
   ]
  },
  {
   "cell_type": "code",
   "execution_count": 15,
   "id": "3103d930",
   "metadata": {},
   "outputs": [
    {
     "data": {
      "text/plain": [
       "Series([], dtype: int64)"
      ]
     },
     "execution_count": 15,
     "metadata": {},
     "output_type": "execute_result"
    }
   ],
   "source": [
    "# checking nulls after datetime conversion\n",
    "flight_df.isnull().sum()[flight_df.isnull().sum()>0]"
   ]
  },
  {
   "cell_type": "code",
   "execution_count": 16,
   "id": "584dc469",
   "metadata": {},
   "outputs": [],
   "source": [
    "flight_df['Journey_Date_Day'] = flight_df.Date_of_Journey.dt.day"
   ]
  },
  {
   "cell_type": "code",
   "execution_count": 17,
   "id": "bb00b068",
   "metadata": {},
   "outputs": [],
   "source": [
    "flight_df['Journey_Date_Month'] = flight_df.Date_of_Journey.dt.month"
   ]
  },
  {
   "cell_type": "code",
   "execution_count": 18,
   "id": "0c00e0e2",
   "metadata": {},
   "outputs": [],
   "source": [
    "flight_df['Journey_Date_Year'] = flight_df.Date_of_Journey.dt.year"
   ]
  },
  {
   "cell_type": "markdown",
   "id": "5c03f544",
   "metadata": {},
   "source": [
    "# Question 2:"
   ]
  },
  {
   "cell_type": "markdown",
   "id": "456be7a6",
   "metadata": {},
   "source": [
    "# Perform Exploratory Data Analysis (EDA) tasks"
   ]
  },
  {
   "cell_type": "markdown",
   "id": "ee86ab88",
   "metadata": {},
   "source": [
    "# a) Which airline is most preferred airline"
   ]
  },
  {
   "cell_type": "code",
   "execution_count": 19,
   "id": "2e9a54af",
   "metadata": {},
   "outputs": [
    {
     "data": {
      "image/png": "[encoded data removed]",
      "text/plain": [
       "<Figure size 800x400 with 1 Axes>"
      ]
     },
     "metadata": {},
     "output_type": "display_data"
    }
   ],
   "source": [
    "plt.figure(figsize=(8,4))\n",
    "sns.countplot(x=\"Airline\", data=flight_df,order = flight_df['Airline'].value_counts().index,ec = \"black\")\n",
    "font_style={'family':'times new roman','size':20,'color':'black'}\n",
    "plt.title(\"Most preferred Airlines\",fontdict=font_style)\n",
    "plt.ylabel(\"Count\",fontdict=font_style)\n",
    "plt.xlabel(\"Airlines\",fontdict=font_style)\n",
    "plt.xticks(rotation= 90)\n",
    "plt.xlim(-1,10.5)\n",
    "plt.show()"
   ]
  },
  {
   "cell_type": "markdown",
   "id": "096e6262",
   "metadata": {},
   "source": [
    "# Most preferred Airline is “Jet Airways”"
   ]
  },
  {
   "cell_type": "markdown",
   "id": "d48fd518",
   "metadata": {},
   "source": [
    "# c) Find the majority of the flights take off from which source\n"
   ]
  },
  {
   "cell_type": "code",
   "execution_count": 20,
   "id": "57d1c788",
   "metadata": {},
   "outputs": [
    {
     "data": {
      "image/png": "[encoded data removed]",
      "text/plain": [
       "<Figure size 800x400 with 1 Axes>"
      ]
     },
     "metadata": {},
     "output_type": "display_data"
    }
   ],
   "source": [
    "plt.figure(figsize=(8,4))\n",
    "sns.countplot(x=\"Source\", data=flight_df,order = flight_df['Source'].value_counts().index,ec = \"black\")\n",
    "font_style={'family':'times new roman','size':20,'color':'black'}\n",
    "plt.title(\"majority of the flights take off from source\",fontdict=font_style)\n",
    "plt.ylabel(\"Count\",fontdict=font_style)\n",
    "plt.xlabel(\"Source\",fontdict=font_style)\n",
    "plt.xticks(rotation= 90)\n",
    "plt.xlim(-1,10.5)\n",
    "plt.show()"
   ]
  },
  {
   "cell_type": "markdown",
   "id": "1d9f847d",
   "metadata": {},
   "source": [
    "## majority of the flights take off from Delhi"
   ]
  },
  {
   "cell_type": "markdown",
   "id": "08d89874",
   "metadata": {},
   "source": [
    "# d) Find maximum flights land in which destination"
   ]
  },
  {
   "cell_type": "code",
   "execution_count": 21,
   "id": "26f9ff19",
   "metadata": {},
   "outputs": [
    {
     "data": {
      "image/png": "[encoded data removed]",
      "text/plain": [
       "<Figure size 800x400 with 1 Axes>"
      ]
     },
     "metadata": {},
     "output_type": "display_data"
    }
   ],
   "source": [
    "plt.figure(figsize=(8,4))\n",
    "sns.countplot(x=\"Destination\", data=flight_df,order = flight_df['Destination'].value_counts().index,ec = \"black\")\n",
    "font_style={'family':'times new roman','size':20,'color':'black'}\n",
    "plt.title(\"maximum flights land destination\",fontdict=font_style)\n",
    "plt.ylabel(\"Count\",fontdict=font_style)\n",
    "plt.xlabel(\"Destination\",fontdict=font_style)\n",
    "plt.xticks(rotation= 90)\n",
    "plt.xlim(-1,10.5)\n",
    "plt.show()"
   ]
  },
  {
   "cell_type": "markdown",
   "id": "494b2249",
   "metadata": {},
   "source": [
    "## maximum flights land destination: cochin"
   ]
  },
  {
   "cell_type": "markdown",
   "id": "b92c7434",
   "metadata": {},
   "source": [
    "# Question 3:"
   ]
  },
  {
   "cell_type": "markdown",
   "id": "baedb327",
   "metadata": {},
   "source": [
    "# Compare independent features with Target feature to check the impact on price\n"
   ]
  },
  {
   "cell_type": "markdown",
   "id": "18e9c2aa",
   "metadata": {},
   "source": [
    "# a) Which airline has the highest price"
   ]
  },
  {
   "cell_type": "code",
   "execution_count": 22,
   "id": "ec0c0d1a",
   "metadata": {},
   "outputs": [
    {
     "data": {
      "image/png": "[encoded data removed]",
      "text/plain": [
       "<Figure size 800x400 with 1 Axes>"
      ]
     },
     "metadata": {},
     "output_type": "display_data"
    }
   ],
   "source": [
    "airlines = flight_df.groupby('Airline').Price.max()\n",
    "airlines_df = airlines.to_frame().sort_values('Price', ascending=False)[0:10]\n",
    "\n",
    "plt.subplots(figsize=(8, 4))\n",
    "sns.barplot(x=airlines_df.index, y=airlines_df[\"Price\"], ec=\"black\")\n",
    "plt.title(\"Airlines Company vs Flight Ticket Price\")\n",
    "plt.ylabel(\"Flight Ticket Price\")\n",
    "plt.xlabel(\"Airlines\")\n",
    "plt.xticks(rotation=90)\n",
    "plt.show()"
   ]
  },
  {
   "cell_type": "markdown",
   "id": "2463e402",
   "metadata": {},
   "source": [
    "## “Jet Airways Business” tickets are the most expensive ones."
   ]
  },
  {
   "cell_type": "markdown",
   "id": "055fbbf9",
   "metadata": {},
   "source": [
    "# b) Check if the business class flights are high price or low and find only those flights which price is higher than 50k"
   ]
  },
  {
   "cell_type": "code",
   "execution_count": 23,
   "id": "8a84684e",
   "metadata": {},
   "outputs": [
    {
     "name": "stdout",
     "output_type": "stream",
     "text": [
      "Price of All flights are ranging from 1759 rupees to 79512 rupees\n",
      "Price of Business class flights are ranging from 28097 rupees to 79512 rupees\n",
      "-----------------------------------------------------------------------------------------------------------------------------\n",
      "Average price for All flights is 9027 rupees \n",
      "Average price for Business class flights is 56811 rupees \n",
      "-----------------------------------------------------------------------------------------------------------------------------\n",
      "Price of Business class  is on higher side\n",
      "-----------------------------------------------------------------------------------------------------------------------------\n",
      "Business class flight which have price higher than 50K:\n"
     ]
    },
    {
     "data": {
      "text/html": [
       "<div>\n",
       "<style scoped>\n",
       "    .dataframe tbody tr th:only-of-type {\n",
       "        vertical-align: middle;\n",
       "    }\n",
       "\n",
       "    .dataframe tbody tr th {\n",
       "        vertical-align: top;\n",
       "    }\n",
       "\n",
       "    .dataframe thead th {\n",
       "        text-align: right;\n",
       "    }\n",
       "</style>\n",
       "<table border=\"1\" class=\"dataframe\">\n",
       "  <thead>\n",
       "    <tr style=\"text-align: right;\">\n",
       "      <th></th>\n",
       "      <th>Airline</th>\n",
       "      <th>Date_of_Journey</th>\n",
       "      <th>Source</th>\n",
       "      <th>Destination</th>\n",
       "      <th>Route</th>\n",
       "      <th>Dep_Time</th>\n",
       "      <th>Arrival_Time</th>\n",
       "      <th>Duration</th>\n",
       "      <th>Total_Stops</th>\n",
       "      <th>Additional_Info</th>\n",
       "      <th>Price</th>\n",
       "      <th>Journey_Date_Day</th>\n",
       "      <th>Journey_Date_Month</th>\n",
       "      <th>Journey_Date_Year</th>\n",
       "    </tr>\n",
       "  </thead>\n",
       "  <tbody>\n",
       "    <tr>\n",
       "      <th>2924</th>\n",
       "      <td>Jet Airways Business</td>\n",
       "      <td>2019-03-01</td>\n",
       "      <td>Banglore</td>\n",
       "      <td>New Delhi</td>\n",
       "      <td>BLR → BOM → DEL</td>\n",
       "      <td>05:45</td>\n",
       "      <td>11:25</td>\n",
       "      <td>5h 40m</td>\n",
       "      <td>1 stop</td>\n",
       "      <td>Business class</td>\n",
       "      <td>79512</td>\n",
       "      <td>1</td>\n",
       "      <td>3</td>\n",
       "      <td>2019</td>\n",
       "    </tr>\n",
       "    <tr>\n",
       "      <th>5372</th>\n",
       "      <td>Jet Airways Business</td>\n",
       "      <td>2019-03-01</td>\n",
       "      <td>Banglore</td>\n",
       "      <td>New Delhi</td>\n",
       "      <td>BLR → BOM → DEL</td>\n",
       "      <td>05:45</td>\n",
       "      <td>12:25</td>\n",
       "      <td>6h 40m</td>\n",
       "      <td>1 stop</td>\n",
       "      <td>Business class</td>\n",
       "      <td>62427</td>\n",
       "      <td>1</td>\n",
       "      <td>3</td>\n",
       "      <td>2019</td>\n",
       "    </tr>\n",
       "    <tr>\n",
       "      <th>10364</th>\n",
       "      <td>Jet Airways Business</td>\n",
       "      <td>2019-03-01</td>\n",
       "      <td>Banglore</td>\n",
       "      <td>New Delhi</td>\n",
       "      <td>BLR → MAA → DEL</td>\n",
       "      <td>09:45</td>\n",
       "      <td>14:25</td>\n",
       "      <td>4h 40m</td>\n",
       "      <td>1 stop</td>\n",
       "      <td>Business class</td>\n",
       "      <td>57209</td>\n",
       "      <td>1</td>\n",
       "      <td>3</td>\n",
       "      <td>2019</td>\n",
       "    </tr>\n",
       "  </tbody>\n",
       "</table>\n",
       "</div>"
      ],
      "text/plain": [
       "                    Airline Date_of_Journey    Source Destination  \\\n",
       "2924   Jet Airways Business      2019-03-01  Banglore   New Delhi   \n",
       "5372   Jet Airways Business      2019-03-01  Banglore   New Delhi   \n",
       "10364  Jet Airways Business      2019-03-01  Banglore   New Delhi   \n",
       "\n",
       "                 Route Dep_Time Arrival_Time Duration Total_Stops  \\\n",
       "2924   BLR → BOM → DEL    05:45        11:25   5h 40m      1 stop   \n",
       "5372   BLR → BOM → DEL    05:45        12:25   6h 40m      1 stop   \n",
       "10364  BLR → MAA → DEL    09:45        14:25   4h 40m      1 stop   \n",
       "\n",
       "      Additional_Info  Price  Journey_Date_Day  Journey_Date_Month  \\\n",
       "2924   Business class  79512                 1                   3   \n",
       "5372   Business class  62427                 1                   3   \n",
       "10364  Business class  57209                 1                   3   \n",
       "\n",
       "       Journey_Date_Year  \n",
       "2924                2019  \n",
       "5372                2019  \n",
       "10364               2019  "
      ]
     },
     "metadata": {},
     "output_type": "display_data"
    }
   ],
   "source": [
    "df_business_class = flight_df[flight_df.Additional_Info == 'Business class']\n",
    "print(f\"Price of All flights are ranging from {flight_df.Price.min()} rupees to {flight_df.Price.max()} rupees\")\n",
    "print(f\"Price of Business class flights are ranging from {df_business_class.Price.min()} rupees to {df_business_class.Price.max()} rupees\")\n",
    "print(\"-\"*125)\n",
    "print(f\"Average price for All flights is {flight_df.Price.mean():.0f} rupees \")\n",
    "print(f\"Average price for Business class flights is {df_business_class.Price.mean():.0f} rupees \")\n",
    "print(\"-\"*125)\n",
    "print(\"Price of Business class  is on higher side\")\n",
    "print(\"-\"*125)\n",
    "print(\"Business class flight which have price higher than 50K:\")\n",
    "display(df_business_class[df_business_class.Price > 50000])"
   ]
  },
  {
   "cell_type": "markdown",
   "id": "f7ee2a20",
   "metadata": {},
   "source": [
    "# Question 4:"
   ]
  },
  {
   "cell_type": "markdown",
   "id": "0123e152",
   "metadata": {},
   "source": [
    "# perform encoding for the required features according to the data"
   ]
  },
  {
   "cell_type": "code",
   "execution_count": 24,
   "id": "51d55714",
   "metadata": {},
   "outputs": [],
   "source": [
    "#Convertig Dep_Time & Arrival_Time to datetime format\n",
    "flight_df.Dep_Time = pd.to_datetime(flight_df.Dep_Time)\n",
    "flight_df.Arrival_Time = pd.to_datetime(flight_df.Arrival_Time)"
   ]
  },
  {
   "cell_type": "code",
   "execution_count": 25,
   "id": "b7ad9700",
   "metadata": {},
   "outputs": [],
   "source": [
    "flight_df['Dep_Hour'] = flight_df.Dep_Time.dt.hour\n",
    "flight_df['Dep_Minutes'] = flight_df.Dep_Time.dt.minute"
   ]
  },
  {
   "cell_type": "code",
   "execution_count": 26,
   "id": "3593489c",
   "metadata": {},
   "outputs": [],
   "source": [
    "flight_df['Arrival_Hour'] = flight_df.Arrival_Time.dt.hour\n",
    "flight_df['Arrival_Minutes'] = flight_df.Arrival_Time.dt.minute"
   ]
  },
  {
   "cell_type": "code",
   "execution_count": 27,
   "id": "367a8a62",
   "metadata": {},
   "outputs": [],
   "source": [
    "dur = []\n",
    "for rec in flight_df.Duration:\n",
    "    if len(rec.split()) != 2:\n",
    "        if 'h' in rec:\n",
    "            dur.append(rec.strip()+' 0m')\n",
    "        else:\n",
    "            dur.append('0h '+rec.strip())\n",
    "    else:\n",
    "        dur.append(rec.strip())\n",
    "Duration_hours = []\n",
    "Duration_mins = []\n",
    "for i in dur:\n",
    "    Duration_hours.append(int(i.split('h')[0]))\n",
    "    Duration_mins.append(int(i.split('m')[0].split()[1]))"
   ]
  },
  {
   "cell_type": "code",
   "execution_count": 28,
   "id": "dfd4cf6f",
   "metadata": {},
   "outputs": [],
   "source": [
    "flight_df['Duration_hours'] = Duration_hours\n",
    "flight_df['Duration_mins'] = Duration_mins"
   ]
  },
  {
   "cell_type": "code",
   "execution_count": 29,
   "id": "1267fef4",
   "metadata": {},
   "outputs": [],
   "source": [
    "# as we have extracted all the required information datetime data so we can drop these columns\n",
    "flight_df = flight_df.drop(['Date_of_Journey','Dep_Time','Arrival_Time','Duration'], axis = 1)"
   ]
  },
  {
   "cell_type": "code",
   "execution_count": 30,
   "id": "5295c163",
   "metadata": {},
   "outputs": [
    {
     "data": {
      "text/plain": [
       "No info                         8182\n",
       "In-flight meal not included     1926\n",
       "No check-in baggage included     318\n",
       "1 Long layover                    19\n",
       "Change airports                    7\n",
       "Business class                     4\n",
       "No Info                            3\n",
       "1 Short layover                    1\n",
       "Red-eye flight                     1\n",
       "2 Long layover                     1\n",
       "Name: Additional_Info, dtype: int64"
      ]
     },
     "execution_count": 30,
     "metadata": {},
     "output_type": "execute_result"
    }
   ],
   "source": [
    "flight_df.Additional_Info.value_counts()\n",
    "# most of the records has no_info"
   ]
  },
  {
   "cell_type": "code",
   "execution_count": 31,
   "id": "e60fcf79",
   "metadata": {},
   "outputs": [
    {
     "data": {
      "text/plain": [
       "DEL → BOM → COK          2376\n",
       "BLR → DEL                1536\n",
       "CCU → BOM → BLR           979\n",
       "CCU → BLR                 724\n",
       "BOM → HYD                 621\n",
       "                         ... \n",
       "CCU → VTZ → BLR             1\n",
       "CCU → IXZ → MAA → BLR       1\n",
       "BOM → COK → MAA → HYD       1\n",
       "BOM → CCU → HYD             1\n",
       "BOM → BBI → HYD             1\n",
       "Name: Route, Length: 128, dtype: int64"
      ]
     },
     "execution_count": 31,
     "metadata": {},
     "output_type": "execute_result"
    }
   ],
   "source": [
    "flight_df.Route.value_counts()\n",
    "# not that informative as Total_Stops, Source, Destination  can compensate this column"
   ]
  },
  {
   "cell_type": "code",
   "execution_count": 32,
   "id": "2bd43cba",
   "metadata": {},
   "outputs": [],
   "source": [
    "# Dropping the non informative columns\n",
    "flight_df = flight_df.drop(['Route','Additional_Info'], axis = 1)"
   ]
  },
  {
   "cell_type": "code",
   "execution_count": 33,
   "id": "b7f8ea87",
   "metadata": {},
   "outputs": [
    {
     "name": "stdout",
     "output_type": "stream",
     "text": [
      "<class 'pandas.core.frame.DataFrame'>\n",
      "Int64Index: 10462 entries, 0 to 10682\n",
      "Data columns (total 14 columns):\n",
      " #   Column              Non-Null Count  Dtype \n",
      "---  ------              --------------  ----- \n",
      " 0   Airline             10462 non-null  object\n",
      " 1   Source              10462 non-null  object\n",
      " 2   Destination         10462 non-null  object\n",
      " 3   Total_Stops         10462 non-null  object\n",
      " 4   Price               10462 non-null  int64 \n",
      " 5   Journey_Date_Day    10462 non-null  int64 \n",
      " 6   Journey_Date_Month  10462 non-null  int64 \n",
      " 7   Journey_Date_Year   10462 non-null  int64 \n",
      " 8   Dep_Hour            10462 non-null  int64 \n",
      " 9   Dep_Minutes         10462 non-null  int64 \n",
      " 10  Arrival_Hour        10462 non-null  int64 \n",
      " 11  Arrival_Minutes     10462 non-null  int64 \n",
      " 12  Duration_hours      10462 non-null  int64 \n",
      " 13  Duration_mins       10462 non-null  int64 \n",
      "dtypes: int64(10), object(4)\n",
      "memory usage: 1.2+ MB\n"
     ]
    }
   ],
   "source": [
    "# checking columns datatype\n",
    "flight_df.info()"
   ]
  },
  {
   "cell_type": "code",
   "execution_count": 34,
   "id": "a3eed40e",
   "metadata": {},
   "outputs": [],
   "source": [
    "# Label Encoding Object columns\n",
    "\n",
    "le_Airline = LabelEncoder().fit(flight_df.Airline)\n",
    "le_Source = LabelEncoder().fit(flight_df.Source)\n",
    "le_Destination = LabelEncoder().fit(flight_df.Destination)"
   ]
  },
  {
   "cell_type": "code",
   "execution_count": 35,
   "id": "652b5631",
   "metadata": {},
   "outputs": [],
   "source": [
    "# converting Total_Stops to numeric manually\n",
    "flight_df.Total_Stops.replace({'1 stop':1, '2 stops':2, '3 stops':3, '4 stops':4, 'non-stop':0}, inplace = True)"
   ]
  },
  {
   "cell_type": "code",
   "execution_count": 36,
   "id": "1fa19ea4",
   "metadata": {},
   "outputs": [],
   "source": [
    "flight_df.Airline = le_Airline.transform(flight_df.Airline)\n",
    "flight_df.Source = le_Source.transform(flight_df.Source)\n",
    "flight_df.Destination = le_Destination.transform(flight_df.Destination)"
   ]
  },
  {
   "cell_type": "code",
   "execution_count": 37,
   "id": "7b083d5b",
   "metadata": {},
   "outputs": [
    {
     "name": "stdout",
     "output_type": "stream",
     "text": [
      "<class 'pandas.core.frame.DataFrame'>\n",
      "Int64Index: 10462 entries, 0 to 10682\n",
      "Data columns (total 14 columns):\n",
      " #   Column              Non-Null Count  Dtype\n",
      "---  ------              --------------  -----\n",
      " 0   Airline             10462 non-null  int32\n",
      " 1   Source              10462 non-null  int32\n",
      " 2   Destination         10462 non-null  int32\n",
      " 3   Total_Stops         10462 non-null  int64\n",
      " 4   Price               10462 non-null  int64\n",
      " 5   Journey_Date_Day    10462 non-null  int64\n",
      " 6   Journey_Date_Month  10462 non-null  int64\n",
      " 7   Journey_Date_Year   10462 non-null  int64\n",
      " 8   Dep_Hour            10462 non-null  int64\n",
      " 9   Dep_Minutes         10462 non-null  int64\n",
      " 10  Arrival_Hour        10462 non-null  int64\n",
      " 11  Arrival_Minutes     10462 non-null  int64\n",
      " 12  Duration_hours      10462 non-null  int64\n",
      " 13  Duration_mins       10462 non-null  int64\n",
      "dtypes: int32(3), int64(11)\n",
      "memory usage: 1.1 MB\n"
     ]
    }
   ],
   "source": [
    "flight_df.info()"
   ]
  },
  {
   "cell_type": "markdown",
   "id": "f0d3dbea",
   "metadata": {},
   "source": [
    "# Q5 Build multiple model by using different algorithm such as Linear Regression, Decision Tree, and Random Forest etc. and check the performance of your model."
   ]
  },
  {
   "cell_type": "markdown",
   "id": "c2fcb60c",
   "metadata": {},
   "source": [
    "# Q6 Compare all of the models and justify your choice about the optimum model by using different evaluation technique and tune the models as per the requirement."
   ]
  },
  {
   "cell_type": "markdown",
   "id": "f1c26fc3",
   "metadata": {},
   "source": [
    "# Spliting data into train and test"
   ]
  },
  {
   "cell_type": "code",
   "execution_count": 38,
   "id": "5db5e5dd",
   "metadata": {},
   "outputs": [],
   "source": [
    "# Scaling the Price into thousands\n",
    "flight_df.Price = flight_df.Price/1000"
   ]
  },
  {
   "cell_type": "code",
   "execution_count": 39,
   "id": "47d11a2d",
   "metadata": {},
   "outputs": [],
   "source": [
    "flight_df.rename(columns={'Price':'Price_in_thousands'}, inplace=True)"
   ]
  },
  {
   "cell_type": "code",
   "execution_count": 40,
   "id": "705b6acf",
   "metadata": {},
   "outputs": [],
   "source": [
    "# Spliting the data into train test(validation)\n",
    "\n",
    "train, test = train_test_split(flight_df, test_size=0.2, random_state=999)"
   ]
  },
  {
   "cell_type": "code",
   "execution_count": 41,
   "id": "e75ac7ee",
   "metadata": {},
   "outputs": [],
   "source": [
    "X_train = train.drop('Price_in_thousands', axis = 1)\n",
    "y_train = train.Price_in_thousands"
   ]
  },
  {
   "cell_type": "code",
   "execution_count": 42,
   "id": "6a242e09",
   "metadata": {},
   "outputs": [],
   "source": [
    "X_test = test.drop('Price_in_thousands', axis = 1)\n",
    "y_test = test.Price_in_thousands"
   ]
  },
  {
   "cell_type": "code",
   "execution_count": 43,
   "id": "4bf3f5eb",
   "metadata": {},
   "outputs": [],
   "source": [
    "eval_df = pd.DataFrame()\n",
    "from sklearn.metrics import *\n",
    "def check_model(model,comm ='base model', imp_feat = False):\n",
    "    global eval_df, pred_train, pred_test\n",
    "    if imp_feat == True:\n",
    "        xtr, ytr = X_train1, y_train1\n",
    "        xts, yts = X_test1, y_test1\n",
    "        comm = 'with feature selection'\n",
    "    else:\n",
    "        xtr, ytr = X_train, y_train\n",
    "        xts, yts = X_test, y_test\n",
    "        \n",
    "    #model training and prediction\n",
    "    model.fit(xtr, ytr)\n",
    "    pred_train = model.predict(xtr)\n",
    "    pred_test = model.predict(xts)\n",
    "    # evaluation matrics\n",
    "    train_score = model.score(xtr, ytr)\n",
    "    test_score = model.score(xts, yts)\n",
    "    N = xtr.shape[0]\n",
    "    K = xtr.shape[1]\n",
    "    Adj_R2 = 1 - ((1-train_score)*(N-1)/(N-K-1))\n",
    "    \n",
    "    mse_train = mean_squared_error(ytr, pred_train)\n",
    "    rmse_train = np.sqrt(mse_train)\n",
    "    mape_train = mean_absolute_percentage_error(ytr, pred_train)\n",
    "    \n",
    "    mse_test = mean_squared_error(yts, pred_test)\n",
    "    rmse_test = np.sqrt(mse_test)\n",
    "    mape_test = mean_absolute_percentage_error(yts, pred_test)\n",
    "    # evaluation storing\n",
    "    if str(model).find('CatBoostRegressor') != -1:\n",
    "        model_name = 'CatBoost'\n",
    "    else:\n",
    "        model_name = str(model).split('Reg')[0].split('(')[0]\n",
    "    temp = pd.DataFrame({'Model':model_name,'Comment': comm,\n",
    "                         'R2_train':train_score,'Adj_R2':Adj_R2, 'R2_test':test_score,\n",
    "                         'mse_train':mse_train,       'mse_test':mse_test,\n",
    "                         'rmse_train':rmse_train,     'rmse_test':rmse_test,\n",
    "                         'mape_train':mape_train,     'mape_test':mape_test,}, index = [1])\n",
    "    eval_df = pd.concat([temp,eval_df]).reset_index(drop = True)\n",
    "    return eval_df.style.highlight_max(subset=['R2_train','R2_test'])\\\n",
    "            .highlight_min(subset=['mse_train','mse_test','rmse_train','rmse_test','mape_train','mape_test'])"
   ]
  },
  {
   "cell_type": "code",
   "execution_count": 44,
   "id": "3bd3eb39",
   "metadata": {},
   "outputs": [
    {
     "data": {
      "text/html": [
       "<style type=\"text/css\">\n",
       "#T_e9f19_row0_col2, #T_e9f19_row0_col4, #T_e9f19_row0_col5, #T_e9f19_row0_col6, #T_e9f19_row0_col7, #T_e9f19_row0_col8, #T_e9f19_row0_col9, #T_e9f19_row0_col10 {\n",
       "  background-color: yellow;\n",
       "}\n",
       "</style>\n",
       "<table id=\"T_e9f19\">\n",
       "  <thead>\n",
       "    <tr>\n",
       "      <th class=\"blank level0\" >&nbsp;</th>\n",
       "      <th id=\"T_e9f19_level0_col0\" class=\"col_heading level0 col0\" >Model</th>\n",
       "      <th id=\"T_e9f19_level0_col1\" class=\"col_heading level0 col1\" >Comment</th>\n",
       "      <th id=\"T_e9f19_level0_col2\" class=\"col_heading level0 col2\" >R2_train</th>\n",
       "      <th id=\"T_e9f19_level0_col3\" class=\"col_heading level0 col3\" >Adj_R2</th>\n",
       "      <th id=\"T_e9f19_level0_col4\" class=\"col_heading level0 col4\" >R2_test</th>\n",
       "      <th id=\"T_e9f19_level0_col5\" class=\"col_heading level0 col5\" >mse_train</th>\n",
       "      <th id=\"T_e9f19_level0_col6\" class=\"col_heading level0 col6\" >mse_test</th>\n",
       "      <th id=\"T_e9f19_level0_col7\" class=\"col_heading level0 col7\" >rmse_train</th>\n",
       "      <th id=\"T_e9f19_level0_col8\" class=\"col_heading level0 col8\" >rmse_test</th>\n",
       "      <th id=\"T_e9f19_level0_col9\" class=\"col_heading level0 col9\" >mape_train</th>\n",
       "      <th id=\"T_e9f19_level0_col10\" class=\"col_heading level0 col10\" >mape_test</th>\n",
       "    </tr>\n",
       "  </thead>\n",
       "  <tbody>\n",
       "    <tr>\n",
       "      <th id=\"T_e9f19_level0_row0\" class=\"row_heading level0 row0\" >0</th>\n",
       "      <td id=\"T_e9f19_row0_col0\" class=\"data row0 col0\" >Linear</td>\n",
       "      <td id=\"T_e9f19_row0_col1\" class=\"data row0 col1\" >base model</td>\n",
       "      <td id=\"T_e9f19_row0_col2\" class=\"data row0 col2\" >0.433549</td>\n",
       "      <td id=\"T_e9f19_row0_col3\" class=\"data row0 col3\" >0.432668</td>\n",
       "      <td id=\"T_e9f19_row0_col4\" class=\"data row0 col4\" >0.441720</td>\n",
       "      <td id=\"T_e9f19_row0_col5\" class=\"data row0 col5\" >12.132753</td>\n",
       "      <td id=\"T_e9f19_row0_col6\" class=\"data row0 col6\" >11.866754</td>\n",
       "      <td id=\"T_e9f19_row0_col7\" class=\"data row0 col7\" >3.483210</td>\n",
       "      <td id=\"T_e9f19_row0_col8\" class=\"data row0 col8\" >3.444816</td>\n",
       "      <td id=\"T_e9f19_row0_col9\" class=\"data row0 col9\" >0.314366</td>\n",
       "      <td id=\"T_e9f19_row0_col10\" class=\"data row0 col10\" >0.317849</td>\n",
       "    </tr>\n",
       "  </tbody>\n",
       "</table>\n"
      ],
      "text/plain": [
       "<pandas.io.formats.style.Styler at 0x207243eaf20>"
      ]
     },
     "execution_count": 44,
     "metadata": {},
     "output_type": "execute_result"
    }
   ],
   "source": [
    "lr = LinearRegression()\n",
    "check_model(lr)"
   ]
  },
  {
   "cell_type": "code",
   "execution_count": 45,
   "id": "8766acd1",
   "metadata": {},
   "outputs": [
    {
     "data": {
      "text/html": [
       "<style type=\"text/css\">\n",
       "#T_06c7e_row0_col2, #T_06c7e_row0_col4, #T_06c7e_row0_col5, #T_06c7e_row0_col6, #T_06c7e_row0_col7, #T_06c7e_row0_col8, #T_06c7e_row0_col9, #T_06c7e_row0_col10 {\n",
       "  background-color: yellow;\n",
       "}\n",
       "</style>\n",
       "<table id=\"T_06c7e\">\n",
       "  <thead>\n",
       "    <tr>\n",
       "      <th class=\"blank level0\" >&nbsp;</th>\n",
       "      <th id=\"T_06c7e_level0_col0\" class=\"col_heading level0 col0\" >Model</th>\n",
       "      <th id=\"T_06c7e_level0_col1\" class=\"col_heading level0 col1\" >Comment</th>\n",
       "      <th id=\"T_06c7e_level0_col2\" class=\"col_heading level0 col2\" >R2_train</th>\n",
       "      <th id=\"T_06c7e_level0_col3\" class=\"col_heading level0 col3\" >Adj_R2</th>\n",
       "      <th id=\"T_06c7e_level0_col4\" class=\"col_heading level0 col4\" >R2_test</th>\n",
       "      <th id=\"T_06c7e_level0_col5\" class=\"col_heading level0 col5\" >mse_train</th>\n",
       "      <th id=\"T_06c7e_level0_col6\" class=\"col_heading level0 col6\" >mse_test</th>\n",
       "      <th id=\"T_06c7e_level0_col7\" class=\"col_heading level0 col7\" >rmse_train</th>\n",
       "      <th id=\"T_06c7e_level0_col8\" class=\"col_heading level0 col8\" >rmse_test</th>\n",
       "      <th id=\"T_06c7e_level0_col9\" class=\"col_heading level0 col9\" >mape_train</th>\n",
       "      <th id=\"T_06c7e_level0_col10\" class=\"col_heading level0 col10\" >mape_test</th>\n",
       "    </tr>\n",
       "  </thead>\n",
       "  <tbody>\n",
       "    <tr>\n",
       "      <th id=\"T_06c7e_level0_row0\" class=\"row_heading level0 row0\" >0</th>\n",
       "      <td id=\"T_06c7e_row0_col0\" class=\"data row0 col0\" >DecisionTree</td>\n",
       "      <td id=\"T_06c7e_row0_col1\" class=\"data row0 col1\" >base model</td>\n",
       "      <td id=\"T_06c7e_row0_col2\" class=\"data row0 col2\" >0.971552</td>\n",
       "      <td id=\"T_06c7e_row0_col3\" class=\"data row0 col3\" >0.971508</td>\n",
       "      <td id=\"T_06c7e_row0_col4\" class=\"data row0 col4\" >0.714051</td>\n",
       "      <td id=\"T_06c7e_row0_col5\" class=\"data row0 col5\" >0.609324</td>\n",
       "      <td id=\"T_06c7e_row0_col6\" class=\"data row0 col6\" >6.078109</td>\n",
       "      <td id=\"T_06c7e_row0_col7\" class=\"data row0 col7\" >0.780592</td>\n",
       "      <td id=\"T_06c7e_row0_col8\" class=\"data row0 col8\" >2.465382</td>\n",
       "      <td id=\"T_06c7e_row0_col9\" class=\"data row0 col9\" >0.032752</td>\n",
       "      <td id=\"T_06c7e_row0_col10\" class=\"data row0 col10\" >0.158555</td>\n",
       "    </tr>\n",
       "    <tr>\n",
       "      <th id=\"T_06c7e_level0_row1\" class=\"row_heading level0 row1\" >1</th>\n",
       "      <td id=\"T_06c7e_row1_col0\" class=\"data row1 col0\" >Linear</td>\n",
       "      <td id=\"T_06c7e_row1_col1\" class=\"data row1 col1\" >base model</td>\n",
       "      <td id=\"T_06c7e_row1_col2\" class=\"data row1 col2\" >0.433549</td>\n",
       "      <td id=\"T_06c7e_row1_col3\" class=\"data row1 col3\" >0.432668</td>\n",
       "      <td id=\"T_06c7e_row1_col4\" class=\"data row1 col4\" >0.441720</td>\n",
       "      <td id=\"T_06c7e_row1_col5\" class=\"data row1 col5\" >12.132753</td>\n",
       "      <td id=\"T_06c7e_row1_col6\" class=\"data row1 col6\" >11.866754</td>\n",
       "      <td id=\"T_06c7e_row1_col7\" class=\"data row1 col7\" >3.483210</td>\n",
       "      <td id=\"T_06c7e_row1_col8\" class=\"data row1 col8\" >3.444816</td>\n",
       "      <td id=\"T_06c7e_row1_col9\" class=\"data row1 col9\" >0.314366</td>\n",
       "      <td id=\"T_06c7e_row1_col10\" class=\"data row1 col10\" >0.317849</td>\n",
       "    </tr>\n",
       "  </tbody>\n",
       "</table>\n"
      ],
      "text/plain": [
       "<pandas.io.formats.style.Styler at 0x207245bb5b0>"
      ]
     },
     "execution_count": 45,
     "metadata": {},
     "output_type": "execute_result"
    }
   ],
   "source": [
    "dt = DecisionTreeRegressor()\n",
    "check_model(dt)"
   ]
  },
  {
   "cell_type": "code",
   "execution_count": 46,
   "id": "f7c2a288",
   "metadata": {},
   "outputs": [
    {
     "data": {
      "text/html": [
       "<style type=\"text/css\">\n",
       "#T_52453_row1_col2, #T_52453_row1_col4, #T_52453_row1_col5, #T_52453_row1_col6, #T_52453_row1_col7, #T_52453_row1_col8, #T_52453_row1_col9, #T_52453_row1_col10 {\n",
       "  background-color: yellow;\n",
       "}\n",
       "</style>\n",
       "<table id=\"T_52453\">\n",
       "  <thead>\n",
       "    <tr>\n",
       "      <th class=\"blank level0\" >&nbsp;</th>\n",
       "      <th id=\"T_52453_level0_col0\" class=\"col_heading level0 col0\" >Model</th>\n",
       "      <th id=\"T_52453_level0_col1\" class=\"col_heading level0 col1\" >Comment</th>\n",
       "      <th id=\"T_52453_level0_col2\" class=\"col_heading level0 col2\" >R2_train</th>\n",
       "      <th id=\"T_52453_level0_col3\" class=\"col_heading level0 col3\" >Adj_R2</th>\n",
       "      <th id=\"T_52453_level0_col4\" class=\"col_heading level0 col4\" >R2_test</th>\n",
       "      <th id=\"T_52453_level0_col5\" class=\"col_heading level0 col5\" >mse_train</th>\n",
       "      <th id=\"T_52453_level0_col6\" class=\"col_heading level0 col6\" >mse_test</th>\n",
       "      <th id=\"T_52453_level0_col7\" class=\"col_heading level0 col7\" >rmse_train</th>\n",
       "      <th id=\"T_52453_level0_col8\" class=\"col_heading level0 col8\" >rmse_test</th>\n",
       "      <th id=\"T_52453_level0_col9\" class=\"col_heading level0 col9\" >mape_train</th>\n",
       "      <th id=\"T_52453_level0_col10\" class=\"col_heading level0 col10\" >mape_test</th>\n",
       "    </tr>\n",
       "  </thead>\n",
       "  <tbody>\n",
       "    <tr>\n",
       "      <th id=\"T_52453_level0_row0\" class=\"row_heading level0 row0\" >0</th>\n",
       "      <td id=\"T_52453_row0_col0\" class=\"data row0 col0\" >DecisionTree</td>\n",
       "      <td id=\"T_52453_row0_col1\" class=\"data row0 col1\" >max_depth=5, min_samples_split=30</td>\n",
       "      <td id=\"T_52453_row0_col2\" class=\"data row0 col2\" >0.668966</td>\n",
       "      <td id=\"T_52453_row0_col3\" class=\"data row0 col3\" >0.668450</td>\n",
       "      <td id=\"T_52453_row0_col4\" class=\"data row0 col4\" >0.680416</td>\n",
       "      <td id=\"T_52453_row0_col5\" class=\"data row0 col5\" >7.090392</td>\n",
       "      <td id=\"T_52453_row0_col6\" class=\"data row0 col6\" >6.793046</td>\n",
       "      <td id=\"T_52453_row0_col7\" class=\"data row0 col7\" >2.662779</td>\n",
       "      <td id=\"T_52453_row0_col8\" class=\"data row0 col8\" >2.606347</td>\n",
       "      <td id=\"T_52453_row0_col9\" class=\"data row0 col9\" >0.212206</td>\n",
       "      <td id=\"T_52453_row0_col10\" class=\"data row0 col10\" >0.213647</td>\n",
       "    </tr>\n",
       "    <tr>\n",
       "      <th id=\"T_52453_level0_row1\" class=\"row_heading level0 row1\" >1</th>\n",
       "      <td id=\"T_52453_row1_col0\" class=\"data row1 col0\" >DecisionTree</td>\n",
       "      <td id=\"T_52453_row1_col1\" class=\"data row1 col1\" >base model</td>\n",
       "      <td id=\"T_52453_row1_col2\" class=\"data row1 col2\" >0.971552</td>\n",
       "      <td id=\"T_52453_row1_col3\" class=\"data row1 col3\" >0.971508</td>\n",
       "      <td id=\"T_52453_row1_col4\" class=\"data row1 col4\" >0.714051</td>\n",
       "      <td id=\"T_52453_row1_col5\" class=\"data row1 col5\" >0.609324</td>\n",
       "      <td id=\"T_52453_row1_col6\" class=\"data row1 col6\" >6.078109</td>\n",
       "      <td id=\"T_52453_row1_col7\" class=\"data row1 col7\" >0.780592</td>\n",
       "      <td id=\"T_52453_row1_col8\" class=\"data row1 col8\" >2.465382</td>\n",
       "      <td id=\"T_52453_row1_col9\" class=\"data row1 col9\" >0.032752</td>\n",
       "      <td id=\"T_52453_row1_col10\" class=\"data row1 col10\" >0.158555</td>\n",
       "    </tr>\n",
       "    <tr>\n",
       "      <th id=\"T_52453_level0_row2\" class=\"row_heading level0 row2\" >2</th>\n",
       "      <td id=\"T_52453_row2_col0\" class=\"data row2 col0\" >Linear</td>\n",
       "      <td id=\"T_52453_row2_col1\" class=\"data row2 col1\" >base model</td>\n",
       "      <td id=\"T_52453_row2_col2\" class=\"data row2 col2\" >0.433549</td>\n",
       "      <td id=\"T_52453_row2_col3\" class=\"data row2 col3\" >0.432668</td>\n",
       "      <td id=\"T_52453_row2_col4\" class=\"data row2 col4\" >0.441720</td>\n",
       "      <td id=\"T_52453_row2_col5\" class=\"data row2 col5\" >12.132753</td>\n",
       "      <td id=\"T_52453_row2_col6\" class=\"data row2 col6\" >11.866754</td>\n",
       "      <td id=\"T_52453_row2_col7\" class=\"data row2 col7\" >3.483210</td>\n",
       "      <td id=\"T_52453_row2_col8\" class=\"data row2 col8\" >3.444816</td>\n",
       "      <td id=\"T_52453_row2_col9\" class=\"data row2 col9\" >0.314366</td>\n",
       "      <td id=\"T_52453_row2_col10\" class=\"data row2 col10\" >0.317849</td>\n",
       "    </tr>\n",
       "  </tbody>\n",
       "</table>\n"
      ],
      "text/plain": [
       "<pandas.io.formats.style.Styler at 0x207243ea500>"
      ]
     },
     "execution_count": 46,
     "metadata": {},
     "output_type": "execute_result"
    }
   ],
   "source": [
    "dt1 = DecisionTreeRegressor(max_depth=5, min_samples_split=30)\n",
    "comment = str(dt1).split('(')[1].split(')')[0]\n",
    "check_model(dt1, comment)\n",
    "# max_depth=5, min_samples_split=30"
   ]
  },
  {
   "cell_type": "code",
   "execution_count": 47,
   "id": "e96a8775",
   "metadata": {},
   "outputs": [
    {
     "data": {
      "text/html": [
       "<style type=\"text/css\">\n",
       "#T_f9672_row0_col4, #T_f9672_row0_col6, #T_f9672_row0_col8, #T_f9672_row0_col10, #T_f9672_row2_col2, #T_f9672_row2_col5, #T_f9672_row2_col7, #T_f9672_row2_col9 {\n",
       "  background-color: yellow;\n",
       "}\n",
       "</style>\n",
       "<table id=\"T_f9672\">\n",
       "  <thead>\n",
       "    <tr>\n",
       "      <th class=\"blank level0\" >&nbsp;</th>\n",
       "      <th id=\"T_f9672_level0_col0\" class=\"col_heading level0 col0\" >Model</th>\n",
       "      <th id=\"T_f9672_level0_col1\" class=\"col_heading level0 col1\" >Comment</th>\n",
       "      <th id=\"T_f9672_level0_col2\" class=\"col_heading level0 col2\" >R2_train</th>\n",
       "      <th id=\"T_f9672_level0_col3\" class=\"col_heading level0 col3\" >Adj_R2</th>\n",
       "      <th id=\"T_f9672_level0_col4\" class=\"col_heading level0 col4\" >R2_test</th>\n",
       "      <th id=\"T_f9672_level0_col5\" class=\"col_heading level0 col5\" >mse_train</th>\n",
       "      <th id=\"T_f9672_level0_col6\" class=\"col_heading level0 col6\" >mse_test</th>\n",
       "      <th id=\"T_f9672_level0_col7\" class=\"col_heading level0 col7\" >rmse_train</th>\n",
       "      <th id=\"T_f9672_level0_col8\" class=\"col_heading level0 col8\" >rmse_test</th>\n",
       "      <th id=\"T_f9672_level0_col9\" class=\"col_heading level0 col9\" >mape_train</th>\n",
       "      <th id=\"T_f9672_level0_col10\" class=\"col_heading level0 col10\" >mape_test</th>\n",
       "    </tr>\n",
       "  </thead>\n",
       "  <tbody>\n",
       "    <tr>\n",
       "      <th id=\"T_f9672_level0_row0\" class=\"row_heading level0 row0\" >0</th>\n",
       "      <td id=\"T_f9672_row0_col0\" class=\"data row0 col0\" >RandomForest</td>\n",
       "      <td id=\"T_f9672_row0_col1\" class=\"data row0 col1\" >base model</td>\n",
       "      <td id=\"T_f9672_row0_col2\" class=\"data row0 col2\" >0.954507</td>\n",
       "      <td id=\"T_f9672_row0_col3\" class=\"data row0 col3\" >0.954436</td>\n",
       "      <td id=\"T_f9672_row0_col4\" class=\"data row0 col4\" >0.803164</td>\n",
       "      <td id=\"T_f9672_row0_col5\" class=\"data row0 col5\" >0.974415</td>\n",
       "      <td id=\"T_f9672_row0_col6\" class=\"data row0 col6\" >4.183936</td>\n",
       "      <td id=\"T_f9672_row0_col7\" class=\"data row0 col7\" >0.987125</td>\n",
       "      <td id=\"T_f9672_row0_col8\" class=\"data row0 col8\" >2.045467</td>\n",
       "      <td id=\"T_f9672_row0_col9\" class=\"data row0 col9\" >0.062104</td>\n",
       "      <td id=\"T_f9672_row0_col10\" class=\"data row0 col10\" >0.139584</td>\n",
       "    </tr>\n",
       "    <tr>\n",
       "      <th id=\"T_f9672_level0_row1\" class=\"row_heading level0 row1\" >1</th>\n",
       "      <td id=\"T_f9672_row1_col0\" class=\"data row1 col0\" >DecisionTree</td>\n",
       "      <td id=\"T_f9672_row1_col1\" class=\"data row1 col1\" >max_depth=5, min_samples_split=30</td>\n",
       "      <td id=\"T_f9672_row1_col2\" class=\"data row1 col2\" >0.668966</td>\n",
       "      <td id=\"T_f9672_row1_col3\" class=\"data row1 col3\" >0.668450</td>\n",
       "      <td id=\"T_f9672_row1_col4\" class=\"data row1 col4\" >0.680416</td>\n",
       "      <td id=\"T_f9672_row1_col5\" class=\"data row1 col5\" >7.090392</td>\n",
       "      <td id=\"T_f9672_row1_col6\" class=\"data row1 col6\" >6.793046</td>\n",
       "      <td id=\"T_f9672_row1_col7\" class=\"data row1 col7\" >2.662779</td>\n",
       "      <td id=\"T_f9672_row1_col8\" class=\"data row1 col8\" >2.606347</td>\n",
       "      <td id=\"T_f9672_row1_col9\" class=\"data row1 col9\" >0.212206</td>\n",
       "      <td id=\"T_f9672_row1_col10\" class=\"data row1 col10\" >0.213647</td>\n",
       "    </tr>\n",
       "    <tr>\n",
       "      <th id=\"T_f9672_level0_row2\" class=\"row_heading level0 row2\" >2</th>\n",
       "      <td id=\"T_f9672_row2_col0\" class=\"data row2 col0\" >DecisionTree</td>\n",
       "      <td id=\"T_f9672_row2_col1\" class=\"data row2 col1\" >base model</td>\n",
       "      <td id=\"T_f9672_row2_col2\" class=\"data row2 col2\" >0.971552</td>\n",
       "      <td id=\"T_f9672_row2_col3\" class=\"data row2 col3\" >0.971508</td>\n",
       "      <td id=\"T_f9672_row2_col4\" class=\"data row2 col4\" >0.714051</td>\n",
       "      <td id=\"T_f9672_row2_col5\" class=\"data row2 col5\" >0.609324</td>\n",
       "      <td id=\"T_f9672_row2_col6\" class=\"data row2 col6\" >6.078109</td>\n",
       "      <td id=\"T_f9672_row2_col7\" class=\"data row2 col7\" >0.780592</td>\n",
       "      <td id=\"T_f9672_row2_col8\" class=\"data row2 col8\" >2.465382</td>\n",
       "      <td id=\"T_f9672_row2_col9\" class=\"data row2 col9\" >0.032752</td>\n",
       "      <td id=\"T_f9672_row2_col10\" class=\"data row2 col10\" >0.158555</td>\n",
       "    </tr>\n",
       "    <tr>\n",
       "      <th id=\"T_f9672_level0_row3\" class=\"row_heading level0 row3\" >3</th>\n",
       "      <td id=\"T_f9672_row3_col0\" class=\"data row3 col0\" >Linear</td>\n",
       "      <td id=\"T_f9672_row3_col1\" class=\"data row3 col1\" >base model</td>\n",
       "      <td id=\"T_f9672_row3_col2\" class=\"data row3 col2\" >0.433549</td>\n",
       "      <td id=\"T_f9672_row3_col3\" class=\"data row3 col3\" >0.432668</td>\n",
       "      <td id=\"T_f9672_row3_col4\" class=\"data row3 col4\" >0.441720</td>\n",
       "      <td id=\"T_f9672_row3_col5\" class=\"data row3 col5\" >12.132753</td>\n",
       "      <td id=\"T_f9672_row3_col6\" class=\"data row3 col6\" >11.866754</td>\n",
       "      <td id=\"T_f9672_row3_col7\" class=\"data row3 col7\" >3.483210</td>\n",
       "      <td id=\"T_f9672_row3_col8\" class=\"data row3 col8\" >3.444816</td>\n",
       "      <td id=\"T_f9672_row3_col9\" class=\"data row3 col9\" >0.314366</td>\n",
       "      <td id=\"T_f9672_row3_col10\" class=\"data row3 col10\" >0.317849</td>\n",
       "    </tr>\n",
       "  </tbody>\n",
       "</table>\n"
      ],
      "text/plain": [
       "<pandas.io.formats.style.Styler at 0x207243e9630>"
      ]
     },
     "execution_count": 47,
     "metadata": {},
     "output_type": "execute_result"
    }
   ],
   "source": [
    "rf = RandomForestRegressor()\n",
    "check_model(rf)"
   ]
  },
  {
   "cell_type": "code",
   "execution_count": 48,
   "id": "2877c453",
   "metadata": {},
   "outputs": [
    {
     "data": {
      "text/html": [
       "<style type=\"text/css\">\n",
       "#T_919e5_row1_col4, #T_919e5_row1_col6, #T_919e5_row1_col8, #T_919e5_row1_col10, #T_919e5_row3_col2, #T_919e5_row3_col5, #T_919e5_row3_col7, #T_919e5_row3_col9 {\n",
       "  background-color: yellow;\n",
       "}\n",
       "</style>\n",
       "<table id=\"T_919e5\">\n",
       "  <thead>\n",
       "    <tr>\n",
       "      <th class=\"blank level0\" >&nbsp;</th>\n",
       "      <th id=\"T_919e5_level0_col0\" class=\"col_heading level0 col0\" >Model</th>\n",
       "      <th id=\"T_919e5_level0_col1\" class=\"col_heading level0 col1\" >Comment</th>\n",
       "      <th id=\"T_919e5_level0_col2\" class=\"col_heading level0 col2\" >R2_train</th>\n",
       "      <th id=\"T_919e5_level0_col3\" class=\"col_heading level0 col3\" >Adj_R2</th>\n",
       "      <th id=\"T_919e5_level0_col4\" class=\"col_heading level0 col4\" >R2_test</th>\n",
       "      <th id=\"T_919e5_level0_col5\" class=\"col_heading level0 col5\" >mse_train</th>\n",
       "      <th id=\"T_919e5_level0_col6\" class=\"col_heading level0 col6\" >mse_test</th>\n",
       "      <th id=\"T_919e5_level0_col7\" class=\"col_heading level0 col7\" >rmse_train</th>\n",
       "      <th id=\"T_919e5_level0_col8\" class=\"col_heading level0 col8\" >rmse_test</th>\n",
       "      <th id=\"T_919e5_level0_col9\" class=\"col_heading level0 col9\" >mape_train</th>\n",
       "      <th id=\"T_919e5_level0_col10\" class=\"col_heading level0 col10\" >mape_test</th>\n",
       "    </tr>\n",
       "  </thead>\n",
       "  <tbody>\n",
       "    <tr>\n",
       "      <th id=\"T_919e5_level0_row0\" class=\"row_heading level0 row0\" >0</th>\n",
       "      <td id=\"T_919e5_row0_col0\" class=\"data row0 col0\" >RandomForest</td>\n",
       "      <td id=\"T_919e5_row0_col1\" class=\"data row0 col1\" >min_samples_split=65</td>\n",
       "      <td id=\"T_919e5_row0_col2\" class=\"data row0 col2\" >0.804983</td>\n",
       "      <td id=\"T_919e5_row0_col3\" class=\"data row0 col3\" >0.804680</td>\n",
       "      <td id=\"T_919e5_row0_col4\" class=\"data row0 col4\" >0.797524</td>\n",
       "      <td id=\"T_919e5_row0_col5\" class=\"data row0 col5\" >4.177039</td>\n",
       "      <td id=\"T_919e5_row0_col6\" class=\"data row0 col6\" >4.303804</td>\n",
       "      <td id=\"T_919e5_row0_col7\" class=\"data row0 col7\" >2.043780</td>\n",
       "      <td id=\"T_919e5_row0_col8\" class=\"data row0 col8\" >2.074561</td>\n",
       "      <td id=\"T_919e5_row0_col9\" class=\"data row0 col9\" >0.145110</td>\n",
       "      <td id=\"T_919e5_row0_col10\" class=\"data row0 col10\" >0.155746</td>\n",
       "    </tr>\n",
       "    <tr>\n",
       "      <th id=\"T_919e5_level0_row1\" class=\"row_heading level0 row1\" >1</th>\n",
       "      <td id=\"T_919e5_row1_col0\" class=\"data row1 col0\" >RandomForest</td>\n",
       "      <td id=\"T_919e5_row1_col1\" class=\"data row1 col1\" >base model</td>\n",
       "      <td id=\"T_919e5_row1_col2\" class=\"data row1 col2\" >0.954507</td>\n",
       "      <td id=\"T_919e5_row1_col3\" class=\"data row1 col3\" >0.954436</td>\n",
       "      <td id=\"T_919e5_row1_col4\" class=\"data row1 col4\" >0.803164</td>\n",
       "      <td id=\"T_919e5_row1_col5\" class=\"data row1 col5\" >0.974415</td>\n",
       "      <td id=\"T_919e5_row1_col6\" class=\"data row1 col6\" >4.183936</td>\n",
       "      <td id=\"T_919e5_row1_col7\" class=\"data row1 col7\" >0.987125</td>\n",
       "      <td id=\"T_919e5_row1_col8\" class=\"data row1 col8\" >2.045467</td>\n",
       "      <td id=\"T_919e5_row1_col9\" class=\"data row1 col9\" >0.062104</td>\n",
       "      <td id=\"T_919e5_row1_col10\" class=\"data row1 col10\" >0.139584</td>\n",
       "    </tr>\n",
       "    <tr>\n",
       "      <th id=\"T_919e5_level0_row2\" class=\"row_heading level0 row2\" >2</th>\n",
       "      <td id=\"T_919e5_row2_col0\" class=\"data row2 col0\" >DecisionTree</td>\n",
       "      <td id=\"T_919e5_row2_col1\" class=\"data row2 col1\" >max_depth=5, min_samples_split=30</td>\n",
       "      <td id=\"T_919e5_row2_col2\" class=\"data row2 col2\" >0.668966</td>\n",
       "      <td id=\"T_919e5_row2_col3\" class=\"data row2 col3\" >0.668450</td>\n",
       "      <td id=\"T_919e5_row2_col4\" class=\"data row2 col4\" >0.680416</td>\n",
       "      <td id=\"T_919e5_row2_col5\" class=\"data row2 col5\" >7.090392</td>\n",
       "      <td id=\"T_919e5_row2_col6\" class=\"data row2 col6\" >6.793046</td>\n",
       "      <td id=\"T_919e5_row2_col7\" class=\"data row2 col7\" >2.662779</td>\n",
       "      <td id=\"T_919e5_row2_col8\" class=\"data row2 col8\" >2.606347</td>\n",
       "      <td id=\"T_919e5_row2_col9\" class=\"data row2 col9\" >0.212206</td>\n",
       "      <td id=\"T_919e5_row2_col10\" class=\"data row2 col10\" >0.213647</td>\n",
       "    </tr>\n",
       "    <tr>\n",
       "      <th id=\"T_919e5_level0_row3\" class=\"row_heading level0 row3\" >3</th>\n",
       "      <td id=\"T_919e5_row3_col0\" class=\"data row3 col0\" >DecisionTree</td>\n",
       "      <td id=\"T_919e5_row3_col1\" class=\"data row3 col1\" >base model</td>\n",
       "      <td id=\"T_919e5_row3_col2\" class=\"data row3 col2\" >0.971552</td>\n",
       "      <td id=\"T_919e5_row3_col3\" class=\"data row3 col3\" >0.971508</td>\n",
       "      <td id=\"T_919e5_row3_col4\" class=\"data row3 col4\" >0.714051</td>\n",
       "      <td id=\"T_919e5_row3_col5\" class=\"data row3 col5\" >0.609324</td>\n",
       "      <td id=\"T_919e5_row3_col6\" class=\"data row3 col6\" >6.078109</td>\n",
       "      <td id=\"T_919e5_row3_col7\" class=\"data row3 col7\" >0.780592</td>\n",
       "      <td id=\"T_919e5_row3_col8\" class=\"data row3 col8\" >2.465382</td>\n",
       "      <td id=\"T_919e5_row3_col9\" class=\"data row3 col9\" >0.032752</td>\n",
       "      <td id=\"T_919e5_row3_col10\" class=\"data row3 col10\" >0.158555</td>\n",
       "    </tr>\n",
       "    <tr>\n",
       "      <th id=\"T_919e5_level0_row4\" class=\"row_heading level0 row4\" >4</th>\n",
       "      <td id=\"T_919e5_row4_col0\" class=\"data row4 col0\" >Linear</td>\n",
       "      <td id=\"T_919e5_row4_col1\" class=\"data row4 col1\" >base model</td>\n",
       "      <td id=\"T_919e5_row4_col2\" class=\"data row4 col2\" >0.433549</td>\n",
       "      <td id=\"T_919e5_row4_col3\" class=\"data row4 col3\" >0.432668</td>\n",
       "      <td id=\"T_919e5_row4_col4\" class=\"data row4 col4\" >0.441720</td>\n",
       "      <td id=\"T_919e5_row4_col5\" class=\"data row4 col5\" >12.132753</td>\n",
       "      <td id=\"T_919e5_row4_col6\" class=\"data row4 col6\" >11.866754</td>\n",
       "      <td id=\"T_919e5_row4_col7\" class=\"data row4 col7\" >3.483210</td>\n",
       "      <td id=\"T_919e5_row4_col8\" class=\"data row4 col8\" >3.444816</td>\n",
       "      <td id=\"T_919e5_row4_col9\" class=\"data row4 col9\" >0.314366</td>\n",
       "      <td id=\"T_919e5_row4_col10\" class=\"data row4 col10\" >0.317849</td>\n",
       "    </tr>\n",
       "  </tbody>\n",
       "</table>\n"
      ],
      "text/plain": [
       "<pandas.io.formats.style.Styler at 0x207242236a0>"
      ]
     },
     "execution_count": 48,
     "metadata": {},
     "output_type": "execute_result"
    }
   ],
   "source": [
    "rf1 = RandomForestRegressor(min_samples_split=65)\n",
    "comment = str(rf1).split('(')[1].split(')')[0]\n",
    "check_model(rf1, comment)\n",
    "# min_samples_split=65"
   ]
  },
  {
   "cell_type": "code",
   "execution_count": 49,
   "id": "8dbb0cf2",
   "metadata": {},
   "outputs": [
    {
     "data": {
      "text/html": [
       "<style type=\"text/css\">\n",
       "#T_a3fbf_row2_col4, #T_a3fbf_row2_col6, #T_a3fbf_row2_col8, #T_a3fbf_row2_col10, #T_a3fbf_row4_col2, #T_a3fbf_row4_col5, #T_a3fbf_row4_col7, #T_a3fbf_row4_col9 {\n",
       "  background-color: yellow;\n",
       "}\n",
       "</style>\n",
       "<table id=\"T_a3fbf\">\n",
       "  <thead>\n",
       "    <tr>\n",
       "      <th class=\"blank level0\" >&nbsp;</th>\n",
       "      <th id=\"T_a3fbf_level0_col0\" class=\"col_heading level0 col0\" >Model</th>\n",
       "      <th id=\"T_a3fbf_level0_col1\" class=\"col_heading level0 col1\" >Comment</th>\n",
       "      <th id=\"T_a3fbf_level0_col2\" class=\"col_heading level0 col2\" >R2_train</th>\n",
       "      <th id=\"T_a3fbf_level0_col3\" class=\"col_heading level0 col3\" >Adj_R2</th>\n",
       "      <th id=\"T_a3fbf_level0_col4\" class=\"col_heading level0 col4\" >R2_test</th>\n",
       "      <th id=\"T_a3fbf_level0_col5\" class=\"col_heading level0 col5\" >mse_train</th>\n",
       "      <th id=\"T_a3fbf_level0_col6\" class=\"col_heading level0 col6\" >mse_test</th>\n",
       "      <th id=\"T_a3fbf_level0_col7\" class=\"col_heading level0 col7\" >rmse_train</th>\n",
       "      <th id=\"T_a3fbf_level0_col8\" class=\"col_heading level0 col8\" >rmse_test</th>\n",
       "      <th id=\"T_a3fbf_level0_col9\" class=\"col_heading level0 col9\" >mape_train</th>\n",
       "      <th id=\"T_a3fbf_level0_col10\" class=\"col_heading level0 col10\" >mape_test</th>\n",
       "    </tr>\n",
       "  </thead>\n",
       "  <tbody>\n",
       "    <tr>\n",
       "      <th id=\"T_a3fbf_level0_row0\" class=\"row_heading level0 row0\" >0</th>\n",
       "      <td id=\"T_a3fbf_row0_col0\" class=\"data row0 col0\" >GradientBoosting</td>\n",
       "      <td id=\"T_a3fbf_row0_col1\" class=\"data row0 col1\" >learning_rate=0.15</td>\n",
       "      <td id=\"T_a3fbf_row0_col2\" class=\"data row0 col2\" >0.802840</td>\n",
       "      <td id=\"T_a3fbf_row0_col3\" class=\"data row0 col3\" >0.802534</td>\n",
       "      <td id=\"T_a3fbf_row0_col4\" class=\"data row0 col4\" >0.792801</td>\n",
       "      <td id=\"T_a3fbf_row0_col5\" class=\"data row0 col5\" >4.222941</td>\n",
       "      <td id=\"T_a3fbf_row0_col6\" class=\"data row0 col6\" >4.404203</td>\n",
       "      <td id=\"T_a3fbf_row0_col7\" class=\"data row0 col7\" >2.054980</td>\n",
       "      <td id=\"T_a3fbf_row0_col8\" class=\"data row0 col8\" >2.098619</td>\n",
       "      <td id=\"T_a3fbf_row0_col9\" class=\"data row0 col9\" >0.166296</td>\n",
       "      <td id=\"T_a3fbf_row0_col10\" class=\"data row0 col10\" >0.171561</td>\n",
       "    </tr>\n",
       "    <tr>\n",
       "      <th id=\"T_a3fbf_level0_row1\" class=\"row_heading level0 row1\" >1</th>\n",
       "      <td id=\"T_a3fbf_row1_col0\" class=\"data row1 col0\" >RandomForest</td>\n",
       "      <td id=\"T_a3fbf_row1_col1\" class=\"data row1 col1\" >min_samples_split=65</td>\n",
       "      <td id=\"T_a3fbf_row1_col2\" class=\"data row1 col2\" >0.804983</td>\n",
       "      <td id=\"T_a3fbf_row1_col3\" class=\"data row1 col3\" >0.804680</td>\n",
       "      <td id=\"T_a3fbf_row1_col4\" class=\"data row1 col4\" >0.797524</td>\n",
       "      <td id=\"T_a3fbf_row1_col5\" class=\"data row1 col5\" >4.177039</td>\n",
       "      <td id=\"T_a3fbf_row1_col6\" class=\"data row1 col6\" >4.303804</td>\n",
       "      <td id=\"T_a3fbf_row1_col7\" class=\"data row1 col7\" >2.043780</td>\n",
       "      <td id=\"T_a3fbf_row1_col8\" class=\"data row1 col8\" >2.074561</td>\n",
       "      <td id=\"T_a3fbf_row1_col9\" class=\"data row1 col9\" >0.145110</td>\n",
       "      <td id=\"T_a3fbf_row1_col10\" class=\"data row1 col10\" >0.155746</td>\n",
       "    </tr>\n",
       "    <tr>\n",
       "      <th id=\"T_a3fbf_level0_row2\" class=\"row_heading level0 row2\" >2</th>\n",
       "      <td id=\"T_a3fbf_row2_col0\" class=\"data row2 col0\" >RandomForest</td>\n",
       "      <td id=\"T_a3fbf_row2_col1\" class=\"data row2 col1\" >base model</td>\n",
       "      <td id=\"T_a3fbf_row2_col2\" class=\"data row2 col2\" >0.954507</td>\n",
       "      <td id=\"T_a3fbf_row2_col3\" class=\"data row2 col3\" >0.954436</td>\n",
       "      <td id=\"T_a3fbf_row2_col4\" class=\"data row2 col4\" >0.803164</td>\n",
       "      <td id=\"T_a3fbf_row2_col5\" class=\"data row2 col5\" >0.974415</td>\n",
       "      <td id=\"T_a3fbf_row2_col6\" class=\"data row2 col6\" >4.183936</td>\n",
       "      <td id=\"T_a3fbf_row2_col7\" class=\"data row2 col7\" >0.987125</td>\n",
       "      <td id=\"T_a3fbf_row2_col8\" class=\"data row2 col8\" >2.045467</td>\n",
       "      <td id=\"T_a3fbf_row2_col9\" class=\"data row2 col9\" >0.062104</td>\n",
       "      <td id=\"T_a3fbf_row2_col10\" class=\"data row2 col10\" >0.139584</td>\n",
       "    </tr>\n",
       "    <tr>\n",
       "      <th id=\"T_a3fbf_level0_row3\" class=\"row_heading level0 row3\" >3</th>\n",
       "      <td id=\"T_a3fbf_row3_col0\" class=\"data row3 col0\" >DecisionTree</td>\n",
       "      <td id=\"T_a3fbf_row3_col1\" class=\"data row3 col1\" >max_depth=5, min_samples_split=30</td>\n",
       "      <td id=\"T_a3fbf_row3_col2\" class=\"data row3 col2\" >0.668966</td>\n",
       "      <td id=\"T_a3fbf_row3_col3\" class=\"data row3 col3\" >0.668450</td>\n",
       "      <td id=\"T_a3fbf_row3_col4\" class=\"data row3 col4\" >0.680416</td>\n",
       "      <td id=\"T_a3fbf_row3_col5\" class=\"data row3 col5\" >7.090392</td>\n",
       "      <td id=\"T_a3fbf_row3_col6\" class=\"data row3 col6\" >6.793046</td>\n",
       "      <td id=\"T_a3fbf_row3_col7\" class=\"data row3 col7\" >2.662779</td>\n",
       "      <td id=\"T_a3fbf_row3_col8\" class=\"data row3 col8\" >2.606347</td>\n",
       "      <td id=\"T_a3fbf_row3_col9\" class=\"data row3 col9\" >0.212206</td>\n",
       "      <td id=\"T_a3fbf_row3_col10\" class=\"data row3 col10\" >0.213647</td>\n",
       "    </tr>\n",
       "    <tr>\n",
       "      <th id=\"T_a3fbf_level0_row4\" class=\"row_heading level0 row4\" >4</th>\n",
       "      <td id=\"T_a3fbf_row4_col0\" class=\"data row4 col0\" >DecisionTree</td>\n",
       "      <td id=\"T_a3fbf_row4_col1\" class=\"data row4 col1\" >base model</td>\n",
       "      <td id=\"T_a3fbf_row4_col2\" class=\"data row4 col2\" >0.971552</td>\n",
       "      <td id=\"T_a3fbf_row4_col3\" class=\"data row4 col3\" >0.971508</td>\n",
       "      <td id=\"T_a3fbf_row4_col4\" class=\"data row4 col4\" >0.714051</td>\n",
       "      <td id=\"T_a3fbf_row4_col5\" class=\"data row4 col5\" >0.609324</td>\n",
       "      <td id=\"T_a3fbf_row4_col6\" class=\"data row4 col6\" >6.078109</td>\n",
       "      <td id=\"T_a3fbf_row4_col7\" class=\"data row4 col7\" >0.780592</td>\n",
       "      <td id=\"T_a3fbf_row4_col8\" class=\"data row4 col8\" >2.465382</td>\n",
       "      <td id=\"T_a3fbf_row4_col9\" class=\"data row4 col9\" >0.032752</td>\n",
       "      <td id=\"T_a3fbf_row4_col10\" class=\"data row4 col10\" >0.158555</td>\n",
       "    </tr>\n",
       "    <tr>\n",
       "      <th id=\"T_a3fbf_level0_row5\" class=\"row_heading level0 row5\" >5</th>\n",
       "      <td id=\"T_a3fbf_row5_col0\" class=\"data row5 col0\" >Linear</td>\n",
       "      <td id=\"T_a3fbf_row5_col1\" class=\"data row5 col1\" >base model</td>\n",
       "      <td id=\"T_a3fbf_row5_col2\" class=\"data row5 col2\" >0.433549</td>\n",
       "      <td id=\"T_a3fbf_row5_col3\" class=\"data row5 col3\" >0.432668</td>\n",
       "      <td id=\"T_a3fbf_row5_col4\" class=\"data row5 col4\" >0.441720</td>\n",
       "      <td id=\"T_a3fbf_row5_col5\" class=\"data row5 col5\" >12.132753</td>\n",
       "      <td id=\"T_a3fbf_row5_col6\" class=\"data row5 col6\" >11.866754</td>\n",
       "      <td id=\"T_a3fbf_row5_col7\" class=\"data row5 col7\" >3.483210</td>\n",
       "      <td id=\"T_a3fbf_row5_col8\" class=\"data row5 col8\" >3.444816</td>\n",
       "      <td id=\"T_a3fbf_row5_col9\" class=\"data row5 col9\" >0.314366</td>\n",
       "      <td id=\"T_a3fbf_row5_col10\" class=\"data row5 col10\" >0.317849</td>\n",
       "    </tr>\n",
       "  </tbody>\n",
       "</table>\n"
      ],
      "text/plain": [
       "<pandas.io.formats.style.Styler at 0x20724d5aef0>"
      ]
     },
     "execution_count": 49,
     "metadata": {},
     "output_type": "execute_result"
    }
   ],
   "source": [
    "gb = GradientBoostingRegressor(learning_rate=0.15)\n",
    "comment = str(gb).split('(')[1].split(')')[0]\n",
    "check_model(gb, comment)"
   ]
  },
  {
   "cell_type": "code",
   "execution_count": 50,
   "id": "78007ec9",
   "metadata": {},
   "outputs": [
    {
     "data": {
      "text/html": [
       "<style type=\"text/css\">\n",
       "#T_e71f9_row3_col4, #T_e71f9_row3_col6, #T_e71f9_row3_col8, #T_e71f9_row3_col10, #T_e71f9_row5_col2, #T_e71f9_row5_col5, #T_e71f9_row5_col7, #T_e71f9_row5_col9 {\n",
       "  background-color: yellow;\n",
       "}\n",
       "</style>\n",
       "<table id=\"T_e71f9\">\n",
       "  <thead>\n",
       "    <tr>\n",
       "      <th class=\"blank level0\" >&nbsp;</th>\n",
       "      <th id=\"T_e71f9_level0_col0\" class=\"col_heading level0 col0\" >Model</th>\n",
       "      <th id=\"T_e71f9_level0_col1\" class=\"col_heading level0 col1\" >Comment</th>\n",
       "      <th id=\"T_e71f9_level0_col2\" class=\"col_heading level0 col2\" >R2_train</th>\n",
       "      <th id=\"T_e71f9_level0_col3\" class=\"col_heading level0 col3\" >Adj_R2</th>\n",
       "      <th id=\"T_e71f9_level0_col4\" class=\"col_heading level0 col4\" >R2_test</th>\n",
       "      <th id=\"T_e71f9_level0_col5\" class=\"col_heading level0 col5\" >mse_train</th>\n",
       "      <th id=\"T_e71f9_level0_col6\" class=\"col_heading level0 col6\" >mse_test</th>\n",
       "      <th id=\"T_e71f9_level0_col7\" class=\"col_heading level0 col7\" >rmse_train</th>\n",
       "      <th id=\"T_e71f9_level0_col8\" class=\"col_heading level0 col8\" >rmse_test</th>\n",
       "      <th id=\"T_e71f9_level0_col9\" class=\"col_heading level0 col9\" >mape_train</th>\n",
       "      <th id=\"T_e71f9_level0_col10\" class=\"col_heading level0 col10\" >mape_test</th>\n",
       "    </tr>\n",
       "  </thead>\n",
       "  <tbody>\n",
       "    <tr>\n",
       "      <th id=\"T_e71f9_level0_row0\" class=\"row_heading level0 row0\" >0</th>\n",
       "      <td id=\"T_e71f9_row0_col0\" class=\"data row0 col0\" >AdaBoost</td>\n",
       "      <td id=\"T_e71f9_row0_col1\" class=\"data row0 col1\" >base model</td>\n",
       "      <td id=\"T_e71f9_row0_col2\" class=\"data row0 col2\" >0.299008</td>\n",
       "      <td id=\"T_e71f9_row0_col3\" class=\"data row0 col3\" >0.297918</td>\n",
       "      <td id=\"T_e71f9_row0_col4\" class=\"data row0 col4\" >0.279020</td>\n",
       "      <td id=\"T_e71f9_row0_col5\" class=\"data row0 col5\" >15.014468</td>\n",
       "      <td id=\"T_e71f9_row0_col6\" class=\"data row0 col6\" >15.325069</td>\n",
       "      <td id=\"T_e71f9_row0_col7\" class=\"data row0 col7\" >3.874851</td>\n",
       "      <td id=\"T_e71f9_row0_col8\" class=\"data row0 col8\" >3.914725</td>\n",
       "      <td id=\"T_e71f9_row0_col9\" class=\"data row0 col9\" >0.564110</td>\n",
       "      <td id=\"T_e71f9_row0_col10\" class=\"data row0 col10\" >0.573108</td>\n",
       "    </tr>\n",
       "    <tr>\n",
       "      <th id=\"T_e71f9_level0_row1\" class=\"row_heading level0 row1\" >1</th>\n",
       "      <td id=\"T_e71f9_row1_col0\" class=\"data row1 col0\" >GradientBoosting</td>\n",
       "      <td id=\"T_e71f9_row1_col1\" class=\"data row1 col1\" >learning_rate=0.15</td>\n",
       "      <td id=\"T_e71f9_row1_col2\" class=\"data row1 col2\" >0.802840</td>\n",
       "      <td id=\"T_e71f9_row1_col3\" class=\"data row1 col3\" >0.802534</td>\n",
       "      <td id=\"T_e71f9_row1_col4\" class=\"data row1 col4\" >0.792801</td>\n",
       "      <td id=\"T_e71f9_row1_col5\" class=\"data row1 col5\" >4.222941</td>\n",
       "      <td id=\"T_e71f9_row1_col6\" class=\"data row1 col6\" >4.404203</td>\n",
       "      <td id=\"T_e71f9_row1_col7\" class=\"data row1 col7\" >2.054980</td>\n",
       "      <td id=\"T_e71f9_row1_col8\" class=\"data row1 col8\" >2.098619</td>\n",
       "      <td id=\"T_e71f9_row1_col9\" class=\"data row1 col9\" >0.166296</td>\n",
       "      <td id=\"T_e71f9_row1_col10\" class=\"data row1 col10\" >0.171561</td>\n",
       "    </tr>\n",
       "    <tr>\n",
       "      <th id=\"T_e71f9_level0_row2\" class=\"row_heading level0 row2\" >2</th>\n",
       "      <td id=\"T_e71f9_row2_col0\" class=\"data row2 col0\" >RandomForest</td>\n",
       "      <td id=\"T_e71f9_row2_col1\" class=\"data row2 col1\" >min_samples_split=65</td>\n",
       "      <td id=\"T_e71f9_row2_col2\" class=\"data row2 col2\" >0.804983</td>\n",
       "      <td id=\"T_e71f9_row2_col3\" class=\"data row2 col3\" >0.804680</td>\n",
       "      <td id=\"T_e71f9_row2_col4\" class=\"data row2 col4\" >0.797524</td>\n",
       "      <td id=\"T_e71f9_row2_col5\" class=\"data row2 col5\" >4.177039</td>\n",
       "      <td id=\"T_e71f9_row2_col6\" class=\"data row2 col6\" >4.303804</td>\n",
       "      <td id=\"T_e71f9_row2_col7\" class=\"data row2 col7\" >2.043780</td>\n",
       "      <td id=\"T_e71f9_row2_col8\" class=\"data row2 col8\" >2.074561</td>\n",
       "      <td id=\"T_e71f9_row2_col9\" class=\"data row2 col9\" >0.145110</td>\n",
       "      <td id=\"T_e71f9_row2_col10\" class=\"data row2 col10\" >0.155746</td>\n",
       "    </tr>\n",
       "    <tr>\n",
       "      <th id=\"T_e71f9_level0_row3\" class=\"row_heading level0 row3\" >3</th>\n",
       "      <td id=\"T_e71f9_row3_col0\" class=\"data row3 col0\" >RandomForest</td>\n",
       "      <td id=\"T_e71f9_row3_col1\" class=\"data row3 col1\" >base model</td>\n",
       "      <td id=\"T_e71f9_row3_col2\" class=\"data row3 col2\" >0.954507</td>\n",
       "      <td id=\"T_e71f9_row3_col3\" class=\"data row3 col3\" >0.954436</td>\n",
       "      <td id=\"T_e71f9_row3_col4\" class=\"data row3 col4\" >0.803164</td>\n",
       "      <td id=\"T_e71f9_row3_col5\" class=\"data row3 col5\" >0.974415</td>\n",
       "      <td id=\"T_e71f9_row3_col6\" class=\"data row3 col6\" >4.183936</td>\n",
       "      <td id=\"T_e71f9_row3_col7\" class=\"data row3 col7\" >0.987125</td>\n",
       "      <td id=\"T_e71f9_row3_col8\" class=\"data row3 col8\" >2.045467</td>\n",
       "      <td id=\"T_e71f9_row3_col9\" class=\"data row3 col9\" >0.062104</td>\n",
       "      <td id=\"T_e71f9_row3_col10\" class=\"data row3 col10\" >0.139584</td>\n",
       "    </tr>\n",
       "    <tr>\n",
       "      <th id=\"T_e71f9_level0_row4\" class=\"row_heading level0 row4\" >4</th>\n",
       "      <td id=\"T_e71f9_row4_col0\" class=\"data row4 col0\" >DecisionTree</td>\n",
       "      <td id=\"T_e71f9_row4_col1\" class=\"data row4 col1\" >max_depth=5, min_samples_split=30</td>\n",
       "      <td id=\"T_e71f9_row4_col2\" class=\"data row4 col2\" >0.668966</td>\n",
       "      <td id=\"T_e71f9_row4_col3\" class=\"data row4 col3\" >0.668450</td>\n",
       "      <td id=\"T_e71f9_row4_col4\" class=\"data row4 col4\" >0.680416</td>\n",
       "      <td id=\"T_e71f9_row4_col5\" class=\"data row4 col5\" >7.090392</td>\n",
       "      <td id=\"T_e71f9_row4_col6\" class=\"data row4 col6\" >6.793046</td>\n",
       "      <td id=\"T_e71f9_row4_col7\" class=\"data row4 col7\" >2.662779</td>\n",
       "      <td id=\"T_e71f9_row4_col8\" class=\"data row4 col8\" >2.606347</td>\n",
       "      <td id=\"T_e71f9_row4_col9\" class=\"data row4 col9\" >0.212206</td>\n",
       "      <td id=\"T_e71f9_row4_col10\" class=\"data row4 col10\" >0.213647</td>\n",
       "    </tr>\n",
       "    <tr>\n",
       "      <th id=\"T_e71f9_level0_row5\" class=\"row_heading level0 row5\" >5</th>\n",
       "      <td id=\"T_e71f9_row5_col0\" class=\"data row5 col0\" >DecisionTree</td>\n",
       "      <td id=\"T_e71f9_row5_col1\" class=\"data row5 col1\" >base model</td>\n",
       "      <td id=\"T_e71f9_row5_col2\" class=\"data row5 col2\" >0.971552</td>\n",
       "      <td id=\"T_e71f9_row5_col3\" class=\"data row5 col3\" >0.971508</td>\n",
       "      <td id=\"T_e71f9_row5_col4\" class=\"data row5 col4\" >0.714051</td>\n",
       "      <td id=\"T_e71f9_row5_col5\" class=\"data row5 col5\" >0.609324</td>\n",
       "      <td id=\"T_e71f9_row5_col6\" class=\"data row5 col6\" >6.078109</td>\n",
       "      <td id=\"T_e71f9_row5_col7\" class=\"data row5 col7\" >0.780592</td>\n",
       "      <td id=\"T_e71f9_row5_col8\" class=\"data row5 col8\" >2.465382</td>\n",
       "      <td id=\"T_e71f9_row5_col9\" class=\"data row5 col9\" >0.032752</td>\n",
       "      <td id=\"T_e71f9_row5_col10\" class=\"data row5 col10\" >0.158555</td>\n",
       "    </tr>\n",
       "    <tr>\n",
       "      <th id=\"T_e71f9_level0_row6\" class=\"row_heading level0 row6\" >6</th>\n",
       "      <td id=\"T_e71f9_row6_col0\" class=\"data row6 col0\" >Linear</td>\n",
       "      <td id=\"T_e71f9_row6_col1\" class=\"data row6 col1\" >base model</td>\n",
       "      <td id=\"T_e71f9_row6_col2\" class=\"data row6 col2\" >0.433549</td>\n",
       "      <td id=\"T_e71f9_row6_col3\" class=\"data row6 col3\" >0.432668</td>\n",
       "      <td id=\"T_e71f9_row6_col4\" class=\"data row6 col4\" >0.441720</td>\n",
       "      <td id=\"T_e71f9_row6_col5\" class=\"data row6 col5\" >12.132753</td>\n",
       "      <td id=\"T_e71f9_row6_col6\" class=\"data row6 col6\" >11.866754</td>\n",
       "      <td id=\"T_e71f9_row6_col7\" class=\"data row6 col7\" >3.483210</td>\n",
       "      <td id=\"T_e71f9_row6_col8\" class=\"data row6 col8\" >3.444816</td>\n",
       "      <td id=\"T_e71f9_row6_col9\" class=\"data row6 col9\" >0.314366</td>\n",
       "      <td id=\"T_e71f9_row6_col10\" class=\"data row6 col10\" >0.317849</td>\n",
       "    </tr>\n",
       "  </tbody>\n",
       "</table>\n"
      ],
      "text/plain": [
       "<pandas.io.formats.style.Styler at 0x207243f7a60>"
      ]
     },
     "execution_count": 50,
     "metadata": {},
     "output_type": "execute_result"
    }
   ],
   "source": [
    "ada = AdaBoostRegressor()\n",
    "check_model(ada)"
   ]
  },
  {
   "cell_type": "code",
   "execution_count": 53,
   "id": "540dd16e",
   "metadata": {},
   "outputs": [
    {
     "data": {
      "text/html": [
       "<style type=\"text/css\">\n",
       "#T_2c41a_row4_col4, #T_2c41a_row4_col6, #T_2c41a_row4_col8, #T_2c41a_row4_col10, #T_2c41a_row6_col2, #T_2c41a_row6_col5, #T_2c41a_row6_col7, #T_2c41a_row6_col9 {\n",
       "  background-color: yellow;\n",
       "}\n",
       "</style>\n",
       "<table id=\"T_2c41a\">\n",
       "  <thead>\n",
       "    <tr>\n",
       "      <th class=\"blank level0\" >&nbsp;</th>\n",
       "      <th id=\"T_2c41a_level0_col0\" class=\"col_heading level0 col0\" >Model</th>\n",
       "      <th id=\"T_2c41a_level0_col1\" class=\"col_heading level0 col1\" >Comment</th>\n",
       "      <th id=\"T_2c41a_level0_col2\" class=\"col_heading level0 col2\" >R2_train</th>\n",
       "      <th id=\"T_2c41a_level0_col3\" class=\"col_heading level0 col3\" >Adj_R2</th>\n",
       "      <th id=\"T_2c41a_level0_col4\" class=\"col_heading level0 col4\" >R2_test</th>\n",
       "      <th id=\"T_2c41a_level0_col5\" class=\"col_heading level0 col5\" >mse_train</th>\n",
       "      <th id=\"T_2c41a_level0_col6\" class=\"col_heading level0 col6\" >mse_test</th>\n",
       "      <th id=\"T_2c41a_level0_col7\" class=\"col_heading level0 col7\" >rmse_train</th>\n",
       "      <th id=\"T_2c41a_level0_col8\" class=\"col_heading level0 col8\" >rmse_test</th>\n",
       "      <th id=\"T_2c41a_level0_col9\" class=\"col_heading level0 col9\" >mape_train</th>\n",
       "      <th id=\"T_2c41a_level0_col10\" class=\"col_heading level0 col10\" >mape_test</th>\n",
       "    </tr>\n",
       "  </thead>\n",
       "  <tbody>\n",
       "    <tr>\n",
       "      <th id=\"T_2c41a_level0_row0\" class=\"row_heading level0 row0\" >0</th>\n",
       "      <td id=\"T_2c41a_row0_col0\" class=\"data row0 col0\" >CatBoost</td>\n",
       "      <td id=\"T_2c41a_row0_col1\" class=\"data row0 col1\" >learning_rate=0.008</td>\n",
       "      <td id=\"T_2c41a_row0_col2\" class=\"data row0 col2\" >0.810136</td>\n",
       "      <td id=\"T_2c41a_row0_col3\" class=\"data row0 col3\" >0.809841</td>\n",
       "      <td id=\"T_2c41a_row0_col4\" class=\"data row0 col4\" >0.793935</td>\n",
       "      <td id=\"T_2c41a_row0_col5\" class=\"data row0 col5\" >4.066672</td>\n",
       "      <td id=\"T_2c41a_row0_col6\" class=\"data row0 col6\" >4.380095</td>\n",
       "      <td id=\"T_2c41a_row0_col7\" class=\"data row0 col7\" >2.016599</td>\n",
       "      <td id=\"T_2c41a_row0_col8\" class=\"data row0 col8\" >2.092868</td>\n",
       "      <td id=\"T_2c41a_row0_col9\" class=\"data row0 col9\" >0.165812</td>\n",
       "      <td id=\"T_2c41a_row0_col10\" class=\"data row0 col10\" >0.169823</td>\n",
       "    </tr>\n",
       "    <tr>\n",
       "      <th id=\"T_2c41a_level0_row1\" class=\"row_heading level0 row1\" >1</th>\n",
       "      <td id=\"T_2c41a_row1_col0\" class=\"data row1 col0\" >AdaBoost</td>\n",
       "      <td id=\"T_2c41a_row1_col1\" class=\"data row1 col1\" >base model</td>\n",
       "      <td id=\"T_2c41a_row1_col2\" class=\"data row1 col2\" >0.299008</td>\n",
       "      <td id=\"T_2c41a_row1_col3\" class=\"data row1 col3\" >0.297918</td>\n",
       "      <td id=\"T_2c41a_row1_col4\" class=\"data row1 col4\" >0.279020</td>\n",
       "      <td id=\"T_2c41a_row1_col5\" class=\"data row1 col5\" >15.014468</td>\n",
       "      <td id=\"T_2c41a_row1_col6\" class=\"data row1 col6\" >15.325069</td>\n",
       "      <td id=\"T_2c41a_row1_col7\" class=\"data row1 col7\" >3.874851</td>\n",
       "      <td id=\"T_2c41a_row1_col8\" class=\"data row1 col8\" >3.914725</td>\n",
       "      <td id=\"T_2c41a_row1_col9\" class=\"data row1 col9\" >0.564110</td>\n",
       "      <td id=\"T_2c41a_row1_col10\" class=\"data row1 col10\" >0.573108</td>\n",
       "    </tr>\n",
       "    <tr>\n",
       "      <th id=\"T_2c41a_level0_row2\" class=\"row_heading level0 row2\" >2</th>\n",
       "      <td id=\"T_2c41a_row2_col0\" class=\"data row2 col0\" >GradientBoosting</td>\n",
       "      <td id=\"T_2c41a_row2_col1\" class=\"data row2 col1\" >learning_rate=0.15</td>\n",
       "      <td id=\"T_2c41a_row2_col2\" class=\"data row2 col2\" >0.802840</td>\n",
       "      <td id=\"T_2c41a_row2_col3\" class=\"data row2 col3\" >0.802534</td>\n",
       "      <td id=\"T_2c41a_row2_col4\" class=\"data row2 col4\" >0.792801</td>\n",
       "      <td id=\"T_2c41a_row2_col5\" class=\"data row2 col5\" >4.222941</td>\n",
       "      <td id=\"T_2c41a_row2_col6\" class=\"data row2 col6\" >4.404203</td>\n",
       "      <td id=\"T_2c41a_row2_col7\" class=\"data row2 col7\" >2.054980</td>\n",
       "      <td id=\"T_2c41a_row2_col8\" class=\"data row2 col8\" >2.098619</td>\n",
       "      <td id=\"T_2c41a_row2_col9\" class=\"data row2 col9\" >0.166296</td>\n",
       "      <td id=\"T_2c41a_row2_col10\" class=\"data row2 col10\" >0.171561</td>\n",
       "    </tr>\n",
       "    <tr>\n",
       "      <th id=\"T_2c41a_level0_row3\" class=\"row_heading level0 row3\" >3</th>\n",
       "      <td id=\"T_2c41a_row3_col0\" class=\"data row3 col0\" >RandomForest</td>\n",
       "      <td id=\"T_2c41a_row3_col1\" class=\"data row3 col1\" >min_samples_split=65</td>\n",
       "      <td id=\"T_2c41a_row3_col2\" class=\"data row3 col2\" >0.804983</td>\n",
       "      <td id=\"T_2c41a_row3_col3\" class=\"data row3 col3\" >0.804680</td>\n",
       "      <td id=\"T_2c41a_row3_col4\" class=\"data row3 col4\" >0.797524</td>\n",
       "      <td id=\"T_2c41a_row3_col5\" class=\"data row3 col5\" >4.177039</td>\n",
       "      <td id=\"T_2c41a_row3_col6\" class=\"data row3 col6\" >4.303804</td>\n",
       "      <td id=\"T_2c41a_row3_col7\" class=\"data row3 col7\" >2.043780</td>\n",
       "      <td id=\"T_2c41a_row3_col8\" class=\"data row3 col8\" >2.074561</td>\n",
       "      <td id=\"T_2c41a_row3_col9\" class=\"data row3 col9\" >0.145110</td>\n",
       "      <td id=\"T_2c41a_row3_col10\" class=\"data row3 col10\" >0.155746</td>\n",
       "    </tr>\n",
       "    <tr>\n",
       "      <th id=\"T_2c41a_level0_row4\" class=\"row_heading level0 row4\" >4</th>\n",
       "      <td id=\"T_2c41a_row4_col0\" class=\"data row4 col0\" >RandomForest</td>\n",
       "      <td id=\"T_2c41a_row4_col1\" class=\"data row4 col1\" >base model</td>\n",
       "      <td id=\"T_2c41a_row4_col2\" class=\"data row4 col2\" >0.954507</td>\n",
       "      <td id=\"T_2c41a_row4_col3\" class=\"data row4 col3\" >0.954436</td>\n",
       "      <td id=\"T_2c41a_row4_col4\" class=\"data row4 col4\" >0.803164</td>\n",
       "      <td id=\"T_2c41a_row4_col5\" class=\"data row4 col5\" >0.974415</td>\n",
       "      <td id=\"T_2c41a_row4_col6\" class=\"data row4 col6\" >4.183936</td>\n",
       "      <td id=\"T_2c41a_row4_col7\" class=\"data row4 col7\" >0.987125</td>\n",
       "      <td id=\"T_2c41a_row4_col8\" class=\"data row4 col8\" >2.045467</td>\n",
       "      <td id=\"T_2c41a_row4_col9\" class=\"data row4 col9\" >0.062104</td>\n",
       "      <td id=\"T_2c41a_row4_col10\" class=\"data row4 col10\" >0.139584</td>\n",
       "    </tr>\n",
       "    <tr>\n",
       "      <th id=\"T_2c41a_level0_row5\" class=\"row_heading level0 row5\" >5</th>\n",
       "      <td id=\"T_2c41a_row5_col0\" class=\"data row5 col0\" >DecisionTree</td>\n",
       "      <td id=\"T_2c41a_row5_col1\" class=\"data row5 col1\" >max_depth=5, min_samples_split=30</td>\n",
       "      <td id=\"T_2c41a_row5_col2\" class=\"data row5 col2\" >0.668966</td>\n",
       "      <td id=\"T_2c41a_row5_col3\" class=\"data row5 col3\" >0.668450</td>\n",
       "      <td id=\"T_2c41a_row5_col4\" class=\"data row5 col4\" >0.680416</td>\n",
       "      <td id=\"T_2c41a_row5_col5\" class=\"data row5 col5\" >7.090392</td>\n",
       "      <td id=\"T_2c41a_row5_col6\" class=\"data row5 col6\" >6.793046</td>\n",
       "      <td id=\"T_2c41a_row5_col7\" class=\"data row5 col7\" >2.662779</td>\n",
       "      <td id=\"T_2c41a_row5_col8\" class=\"data row5 col8\" >2.606347</td>\n",
       "      <td id=\"T_2c41a_row5_col9\" class=\"data row5 col9\" >0.212206</td>\n",
       "      <td id=\"T_2c41a_row5_col10\" class=\"data row5 col10\" >0.213647</td>\n",
       "    </tr>\n",
       "    <tr>\n",
       "      <th id=\"T_2c41a_level0_row6\" class=\"row_heading level0 row6\" >6</th>\n",
       "      <td id=\"T_2c41a_row6_col0\" class=\"data row6 col0\" >DecisionTree</td>\n",
       "      <td id=\"T_2c41a_row6_col1\" class=\"data row6 col1\" >base model</td>\n",
       "      <td id=\"T_2c41a_row6_col2\" class=\"data row6 col2\" >0.971552</td>\n",
       "      <td id=\"T_2c41a_row6_col3\" class=\"data row6 col3\" >0.971508</td>\n",
       "      <td id=\"T_2c41a_row6_col4\" class=\"data row6 col4\" >0.714051</td>\n",
       "      <td id=\"T_2c41a_row6_col5\" class=\"data row6 col5\" >0.609324</td>\n",
       "      <td id=\"T_2c41a_row6_col6\" class=\"data row6 col6\" >6.078109</td>\n",
       "      <td id=\"T_2c41a_row6_col7\" class=\"data row6 col7\" >0.780592</td>\n",
       "      <td id=\"T_2c41a_row6_col8\" class=\"data row6 col8\" >2.465382</td>\n",
       "      <td id=\"T_2c41a_row6_col9\" class=\"data row6 col9\" >0.032752</td>\n",
       "      <td id=\"T_2c41a_row6_col10\" class=\"data row6 col10\" >0.158555</td>\n",
       "    </tr>\n",
       "    <tr>\n",
       "      <th id=\"T_2c41a_level0_row7\" class=\"row_heading level0 row7\" >7</th>\n",
       "      <td id=\"T_2c41a_row7_col0\" class=\"data row7 col0\" >Linear</td>\n",
       "      <td id=\"T_2c41a_row7_col1\" class=\"data row7 col1\" >base model</td>\n",
       "      <td id=\"T_2c41a_row7_col2\" class=\"data row7 col2\" >0.433549</td>\n",
       "      <td id=\"T_2c41a_row7_col3\" class=\"data row7 col3\" >0.432668</td>\n",
       "      <td id=\"T_2c41a_row7_col4\" class=\"data row7 col4\" >0.441720</td>\n",
       "      <td id=\"T_2c41a_row7_col5\" class=\"data row7 col5\" >12.132753</td>\n",
       "      <td id=\"T_2c41a_row7_col6\" class=\"data row7 col6\" >11.866754</td>\n",
       "      <td id=\"T_2c41a_row7_col7\" class=\"data row7 col7\" >3.483210</td>\n",
       "      <td id=\"T_2c41a_row7_col8\" class=\"data row7 col8\" >3.444816</td>\n",
       "      <td id=\"T_2c41a_row7_col9\" class=\"data row7 col9\" >0.314366</td>\n",
       "      <td id=\"T_2c41a_row7_col10\" class=\"data row7 col10\" >0.317849</td>\n",
       "    </tr>\n",
       "  </tbody>\n",
       "</table>\n"
      ],
      "text/plain": [
       "<pandas.io.formats.style.Styler at 0x2072509b1c0>"
      ]
     },
     "execution_count": 53,
     "metadata": {},
     "output_type": "execute_result"
    }
   ],
   "source": [
    "cat = CatBoostRegressor(learning_rate=0.008, verbose = False)\n",
    "comment = 'learning_rate=0.008'\n",
    "check_model(cat, comment)"
   ]
  },
  {
   "cell_type": "markdown",
   "id": "b0690d3a",
   "metadata": {},
   "source": [
    "## Model Choice:\n",
    "1.CatBoosting with learning_rate=0.008 is giving more generalised and best results\n",
    "\n",
    "2.CatBoosting is giving R2_Score 0.81 on train data and 0.79 on test(validation) data & there is no major difference in R2_score and Adjusted R2_score\n",
    "\n",
    "3.mape on train is 16.58% and mape on test(validation) data is 16.98%\n",
    "\n",
    "4.so finilizing the CatBoosting Model with learning_rate = 0.15"
   ]
  },
  {
   "cell_type": "markdown",
   "id": "07886529",
   "metadata": {},
   "source": [
    "# Q7 Write a conclusion from the business point of view. Finally perform the same preprocessing technique for test data"
   ]
  },
  {
   "cell_type": "code",
   "execution_count": 54,
   "id": "c7fc7c39",
   "metadata": {},
   "outputs": [],
   "source": [
    "# dumping LabelEncoding objects\n",
    "pickle.dump(le_Airline,open('le_Airline.pkl','wb'))\n",
    "pickle.dump(le_Source,open('le_Source.pkl','wb'))\n",
    "pickle.dump(le_Destination,open('le_Destination.pkl','wb'))"
   ]
  },
  {
   "cell_type": "code",
   "execution_count": 55,
   "id": "eab1cf05",
   "metadata": {},
   "outputs": [],
   "source": [
    "def data_clean(df):\n",
    "    \"basic preprocessing\"\n",
    "    \n",
    "    df.Date_of_Journey = pd.to_datetime(df.Date_of_Journey, errors='coerce', format='%d/%m/%Y')\n",
    "\n",
    "    df['Journey_Date_Day'] = df.Date_of_Journey.dt.day\n",
    "    df['Journey_Date_Month'] = df.Date_of_Journey.dt.month\n",
    "    df['Journey_Date_Year'] = df.Date_of_Journey.dt.year\n",
    "\n",
    "    # Convertig Dep_Time & Arrival_Time to datetime format\n",
    "    df.Dep_Time = pd.to_datetime(df.Dep_Time)\n",
    "    df.Arrival_Time = pd.to_datetime(df.Arrival_Time)\n",
    "\n",
    "    df['Dep_Hour'] = df.Dep_Time.dt.hour\n",
    "    df['Dep_Minutes'] = df.Dep_Time.dt.minute\n",
    "\n",
    "    df['Arrival_Hour'] = df.Arrival_Time.dt.hour\n",
    "    df['Arrival_Minutes'] = df.Arrival_Time.dt.minute\n",
    "\n",
    "    dur = []\n",
    "    for rec in df.Duration:\n",
    "        if len(rec.split()) != 2:\n",
    "            if 'h' in rec:\n",
    "                dur.append(rec.strip()+' 0m')\n",
    "            else:\n",
    "                dur.append('0h '+rec.strip())\n",
    "        else:\n",
    "            dur.append(rec.strip())\n",
    "    Duration_hours = []\n",
    "    Duration_mins = []\n",
    "    for i in dur:\n",
    "        Duration_hours.append(int(i.split('h')[0]))\n",
    "        Duration_mins.append(int(i.split('m')[0].split()[1]))\n",
    "\n",
    "    df['Duration_hours'] = Duration_hours\n",
    "    df['Duration_mins'] = Duration_mins\n",
    "\n",
    "    df = df.drop(['Date_of_Journey','Dep_Time','Arrival_Time','Duration'], axis = 1)\n",
    "    df = df.drop(['Route','Additional_Info'], axis = 1)\n",
    "    df.dropna(inplace=True)\n",
    "    df.Total_Stops.replace({'1 stop':1, '2 stops':2, '3 stops':3, '4 stops':4, 'non-stop':0}, inplace = True)\n",
    "    \n",
    "    le_Airline = pickle.load(open('le_Airline.pkl','rb'))\n",
    "    le_Source = pickle.load(open('le_Source.pkl','rb'))\n",
    "    le_Destination = pickle.load(open('le_Destination.pkl','rb'))\n",
    "    \n",
    "    df.Airline = le_Airline.transform(df.Airline)\n",
    "    df.Source = le_Source.transform(df.Source)\n",
    "    df.Destination = le_Destination.transform(df.Destination)\n",
    "    \n",
    "    return df"
   ]
  },
  {
   "cell_type": "code",
   "execution_count": 56,
   "id": "6d11ec4a",
   "metadata": {},
   "outputs": [],
   "source": [
    "whole_train = pd.read_excel(r\"C:\\Users\\sandi\\Downloads\\Flight_Price_Train.xlsx\")"
   ]
  },
  {
   "cell_type": "code",
   "execution_count": 57,
   "id": "7586ee0f",
   "metadata": {},
   "outputs": [],
   "source": [
    "cleaned_data = data_clean(whole_train)"
   ]
  },
  {
   "cell_type": "code",
   "execution_count": 58,
   "id": "4178ace8",
   "metadata": {},
   "outputs": [],
   "source": [
    "# Scaling the Price into thousands\n",
    "cleaned_data.Price = cleaned_data.Price/1000"
   ]
  },
  {
   "cell_type": "code",
   "execution_count": 59,
   "id": "328d53a7",
   "metadata": {},
   "outputs": [],
   "source": [
    "cleaned_data.rename(columns={'Price':'Price_in_thousands'}, inplace=True)"
   ]
  },
  {
   "cell_type": "code",
   "execution_count": 60,
   "id": "d68f43aa",
   "metadata": {},
   "outputs": [],
   "source": [
    "X = cleaned_data.drop('Price_in_thousands', axis = 1)\n",
    "y = cleaned_data.Price_in_thousands"
   ]
  },
  {
   "cell_type": "code",
   "execution_count": 61,
   "id": "b0ede064",
   "metadata": {},
   "outputs": [
    {
     "data": {
      "text/plain": [
       "<catboost.core.CatBoostRegressor at 0x207250b6140>"
      ]
     },
     "execution_count": 61,
     "metadata": {},
     "output_type": "execute_result"
    }
   ],
   "source": [
    "# Training the CatBoostRegressor with whole data\n",
    "cat = CatBoostRegressor(learning_rate=0.008, verbose = False)\n",
    "cat.fit(X,y)"
   ]
  },
  {
   "cell_type": "code",
   "execution_count": 62,
   "id": "38460319",
   "metadata": {},
   "outputs": [
    {
     "data": {
      "text/plain": [
       "0.8011683580331846"
      ]
     },
     "execution_count": 62,
     "metadata": {},
     "output_type": "execute_result"
    }
   ],
   "source": [
    "gb.score(X,y)\n",
    "# R2_score is 0.80"
   ]
  },
  {
   "cell_type": "code",
   "execution_count": 63,
   "id": "db214297",
   "metadata": {},
   "outputs": [],
   "source": [
    "# Saving the final model\n",
    "pickle.dump(cat, open('cat_fp.pkl','wb'))"
   ]
  },
  {
   "cell_type": "code",
   "execution_count": 64,
   "id": "0c1b5c04",
   "metadata": {},
   "outputs": [],
   "source": [
    "# Importing the model\n",
    "cat = pickle.load(open('cat_fp.pkl','rb'))"
   ]
  },
  {
   "cell_type": "markdown",
   "id": "81bc6b13",
   "metadata": {},
   "source": [
    "## Predicting on Test data"
   ]
  },
  {
   "cell_type": "code",
   "execution_count": 65,
   "id": "f9b409d2",
   "metadata": {},
   "outputs": [],
   "source": [
    "fp_test = pd.read_excel(r\"C:\\Users\\sandi\\Downloads\\Flight_Price_Test.xlsx\")"
   ]
  },
  {
   "cell_type": "code",
   "execution_count": 66,
   "id": "d9766ea9",
   "metadata": {},
   "outputs": [],
   "source": [
    "cleaned_test = data_clean(fp_test)"
   ]
  },
  {
   "cell_type": "code",
   "execution_count": 67,
   "id": "f9ae8d22",
   "metadata": {},
   "outputs": [],
   "source": [
    "test_pred = cat.predict(cleaned_test)"
   ]
  },
  {
   "cell_type": "code",
   "execution_count": 68,
   "id": "2644e438",
   "metadata": {},
   "outputs": [],
   "source": [
    "fp_test['Price_in_thousands'] = test_pred"
   ]
  },
  {
   "cell_type": "code",
   "execution_count": 69,
   "id": "e5f29be6",
   "metadata": {},
   "outputs": [
    {
     "data": {
      "text/html": [
       "<div>\n",
       "<style scoped>\n",
       "    .dataframe tbody tr th:only-of-type {\n",
       "        vertical-align: middle;\n",
       "    }\n",
       "\n",
       "    .dataframe tbody tr th {\n",
       "        vertical-align: top;\n",
       "    }\n",
       "\n",
       "    .dataframe thead th {\n",
       "        text-align: right;\n",
       "    }\n",
       "</style>\n",
       "<table border=\"1\" class=\"dataframe\">\n",
       "  <thead>\n",
       "    <tr style=\"text-align: right;\">\n",
       "      <th></th>\n",
       "      <th>Airline</th>\n",
       "      <th>Date_of_Journey</th>\n",
       "      <th>Source</th>\n",
       "      <th>Destination</th>\n",
       "      <th>Route</th>\n",
       "      <th>Dep_Time</th>\n",
       "      <th>Arrival_Time</th>\n",
       "      <th>Duration</th>\n",
       "      <th>Total_Stops</th>\n",
       "      <th>Additional_Info</th>\n",
       "      <th>Journey_Date_Day</th>\n",
       "      <th>Journey_Date_Month</th>\n",
       "      <th>Journey_Date_Year</th>\n",
       "      <th>Dep_Hour</th>\n",
       "      <th>Dep_Minutes</th>\n",
       "      <th>Arrival_Hour</th>\n",
       "      <th>Arrival_Minutes</th>\n",
       "      <th>Duration_hours</th>\n",
       "      <th>Duration_mins</th>\n",
       "      <th>Price_in_thousands</th>\n",
       "    </tr>\n",
       "  </thead>\n",
       "  <tbody>\n",
       "    <tr>\n",
       "      <th>0</th>\n",
       "      <td>Jet Airways</td>\n",
       "      <td>2019-06-06</td>\n",
       "      <td>Delhi</td>\n",
       "      <td>Cochin</td>\n",
       "      <td>DEL → BOM → COK</td>\n",
       "      <td>2023-12-23 17:30:00</td>\n",
       "      <td>2023-06-07 04:25:00</td>\n",
       "      <td>10h 55m</td>\n",
       "      <td>1 stop</td>\n",
       "      <td>No info</td>\n",
       "      <td>6</td>\n",
       "      <td>6</td>\n",
       "      <td>2019</td>\n",
       "      <td>17</td>\n",
       "      <td>30</td>\n",
       "      <td>4</td>\n",
       "      <td>25</td>\n",
       "      <td>10</td>\n",
       "      <td>55</td>\n",
       "      <td>11.667280</td>\n",
       "    </tr>\n",
       "    <tr>\n",
       "      <th>1</th>\n",
       "      <td>IndiGo</td>\n",
       "      <td>2019-05-12</td>\n",
       "      <td>Kolkata</td>\n",
       "      <td>Banglore</td>\n",
       "      <td>CCU → MAA → BLR</td>\n",
       "      <td>2023-12-23 06:20:00</td>\n",
       "      <td>2023-12-23 10:20:00</td>\n",
       "      <td>4h</td>\n",
       "      <td>1 stop</td>\n",
       "      <td>No info</td>\n",
       "      <td>12</td>\n",
       "      <td>5</td>\n",
       "      <td>2019</td>\n",
       "      <td>6</td>\n",
       "      <td>20</td>\n",
       "      <td>10</td>\n",
       "      <td>20</td>\n",
       "      <td>4</td>\n",
       "      <td>0</td>\n",
       "      <td>5.602065</td>\n",
       "    </tr>\n",
       "    <tr>\n",
       "      <th>2</th>\n",
       "      <td>Jet Airways</td>\n",
       "      <td>2019-05-21</td>\n",
       "      <td>Delhi</td>\n",
       "      <td>Cochin</td>\n",
       "      <td>DEL → BOM → COK</td>\n",
       "      <td>2023-12-23 19:15:00</td>\n",
       "      <td>2023-05-22 19:00:00</td>\n",
       "      <td>23h 45m</td>\n",
       "      <td>1 stop</td>\n",
       "      <td>In-flight meal not included</td>\n",
       "      <td>21</td>\n",
       "      <td>5</td>\n",
       "      <td>2019</td>\n",
       "      <td>19</td>\n",
       "      <td>15</td>\n",
       "      <td>19</td>\n",
       "      <td>0</td>\n",
       "      <td>23</td>\n",
       "      <td>45</td>\n",
       "      <td>12.327648</td>\n",
       "    </tr>\n",
       "    <tr>\n",
       "      <th>3</th>\n",
       "      <td>Multiple carriers</td>\n",
       "      <td>2019-05-21</td>\n",
       "      <td>Delhi</td>\n",
       "      <td>Cochin</td>\n",
       "      <td>DEL → BOM → COK</td>\n",
       "      <td>2023-12-23 08:00:00</td>\n",
       "      <td>2023-12-23 21:00:00</td>\n",
       "      <td>13h</td>\n",
       "      <td>1 stop</td>\n",
       "      <td>No info</td>\n",
       "      <td>21</td>\n",
       "      <td>5</td>\n",
       "      <td>2019</td>\n",
       "      <td>8</td>\n",
       "      <td>0</td>\n",
       "      <td>21</td>\n",
       "      <td>0</td>\n",
       "      <td>13</td>\n",
       "      <td>0</td>\n",
       "      <td>10.505297</td>\n",
       "    </tr>\n",
       "    <tr>\n",
       "      <th>4</th>\n",
       "      <td>Air Asia</td>\n",
       "      <td>2019-06-24</td>\n",
       "      <td>Banglore</td>\n",
       "      <td>Delhi</td>\n",
       "      <td>BLR → DEL</td>\n",
       "      <td>2023-12-23 23:55:00</td>\n",
       "      <td>2023-06-25 02:45:00</td>\n",
       "      <td>2h 50m</td>\n",
       "      <td>non-stop</td>\n",
       "      <td>No info</td>\n",
       "      <td>24</td>\n",
       "      <td>6</td>\n",
       "      <td>2019</td>\n",
       "      <td>23</td>\n",
       "      <td>55</td>\n",
       "      <td>2</td>\n",
       "      <td>45</td>\n",
       "      <td>2</td>\n",
       "      <td>50</td>\n",
       "      <td>4.441908</td>\n",
       "    </tr>\n",
       "  </tbody>\n",
       "</table>\n",
       "</div>"
      ],
      "text/plain": [
       "             Airline Date_of_Journey    Source Destination            Route  \\\n",
       "0        Jet Airways      2019-06-06     Delhi      Cochin  DEL → BOM → COK   \n",
       "1             IndiGo      2019-05-12   Kolkata    Banglore  CCU → MAA → BLR   \n",
       "2        Jet Airways      2019-05-21     Delhi      Cochin  DEL → BOM → COK   \n",
       "3  Multiple carriers      2019-05-21     Delhi      Cochin  DEL → BOM → COK   \n",
       "4           Air Asia      2019-06-24  Banglore       Delhi        BLR → DEL   \n",
       "\n",
       "             Dep_Time        Arrival_Time Duration Total_Stops  \\\n",
       "0 2023-12-23 17:30:00 2023-06-07 04:25:00  10h 55m      1 stop   \n",
       "1 2023-12-23 06:20:00 2023-12-23 10:20:00       4h      1 stop   \n",
       "2 2023-12-23 19:15:00 2023-05-22 19:00:00  23h 45m      1 stop   \n",
       "3 2023-12-23 08:00:00 2023-12-23 21:00:00      13h      1 stop   \n",
       "4 2023-12-23 23:55:00 2023-06-25 02:45:00   2h 50m    non-stop   \n",
       "\n",
       "               Additional_Info  Journey_Date_Day  Journey_Date_Month  \\\n",
       "0                      No info                 6                   6   \n",
       "1                      No info                12                   5   \n",
       "2  In-flight meal not included                21                   5   \n",
       "3                      No info                21                   5   \n",
       "4                      No info                24                   6   \n",
       "\n",
       "   Journey_Date_Year  Dep_Hour  Dep_Minutes  Arrival_Hour  Arrival_Minutes  \\\n",
       "0               2019        17           30             4               25   \n",
       "1               2019         6           20            10               20   \n",
       "2               2019        19           15            19                0   \n",
       "3               2019         8            0            21                0   \n",
       "4               2019        23           55             2               45   \n",
       "\n",
       "   Duration_hours  Duration_mins  Price_in_thousands  \n",
       "0              10             55           11.667280  \n",
       "1               4              0            5.602065  \n",
       "2              23             45           12.327648  \n",
       "3              13              0           10.505297  \n",
       "4               2             50            4.441908  "
      ]
     },
     "execution_count": 69,
     "metadata": {},
     "output_type": "execute_result"
    }
   ],
   "source": [
    "fp_test.head(5)"
   ]
  },
  {
   "cell_type": "code",
   "execution_count": 70,
   "id": "c14683fd",
   "metadata": {},
   "outputs": [],
   "source": [
    "fp_test.to_csv('test_data_predictions.csv')"
   ]
  },
  {
   "cell_type": "markdown",
   "id": "fea25350",
   "metadata": {},
   "source": [
    "# Question:8"
   ]
  },
  {
   "cell_type": "markdown",
   "id": "42da8028",
   "metadata": {},
   "source": [
    "# Calculate the a) recency (R),b) frequency (F)c) monetary value (M)for each customer based on the given dataset?"
   ]
  },
  {
   "cell_type": "code",
   "execution_count": 71,
   "id": "c8b3740e",
   "metadata": {},
   "outputs": [],
   "source": [
    "rfm = pd.read_csv(r\"C:\\Users\\sandi\\Downloads\\RFM data.csv\")"
   ]
  },
  {
   "cell_type": "code",
   "execution_count": 72,
   "id": "97ece0d0",
   "metadata": {},
   "outputs": [
    {
     "data": {
      "text/html": [
       "<div>\n",
       "<style scoped>\n",
       "    .dataframe tbody tr th:only-of-type {\n",
       "        vertical-align: middle;\n",
       "    }\n",
       "\n",
       "    .dataframe tbody tr th {\n",
       "        vertical-align: top;\n",
       "    }\n",
       "\n",
       "    .dataframe thead th {\n",
       "        text-align: right;\n",
       "    }\n",
       "</style>\n",
       "<table border=\"1\" class=\"dataframe\">\n",
       "  <thead>\n",
       "    <tr style=\"text-align: right;\">\n",
       "      <th></th>\n",
       "      <th>InvoiceNo</th>\n",
       "      <th>StockCode</th>\n",
       "      <th>Description</th>\n",
       "      <th>Quantity</th>\n",
       "      <th>InvoiceDate</th>\n",
       "      <th>UnitPrice</th>\n",
       "      <th>CustomerID</th>\n",
       "      <th>Country</th>\n",
       "      <th>TotalPrice</th>\n",
       "    </tr>\n",
       "  </thead>\n",
       "  <tbody>\n",
       "    <tr>\n",
       "      <th>0</th>\n",
       "      <td>536365</td>\n",
       "      <td>85123A</td>\n",
       "      <td>white hanging heart t-light holder</td>\n",
       "      <td>6</td>\n",
       "      <td>2010-12-01 08:26:00</td>\n",
       "      <td>2.55</td>\n",
       "      <td>17850.0</td>\n",
       "      <td>United Kingdom</td>\n",
       "      <td>15.30</td>\n",
       "    </tr>\n",
       "    <tr>\n",
       "      <th>1</th>\n",
       "      <td>536365</td>\n",
       "      <td>71053</td>\n",
       "      <td>white metal lantern</td>\n",
       "      <td>6</td>\n",
       "      <td>2010-12-01 08:26:00</td>\n",
       "      <td>3.39</td>\n",
       "      <td>17850.0</td>\n",
       "      <td>United Kingdom</td>\n",
       "      <td>20.34</td>\n",
       "    </tr>\n",
       "    <tr>\n",
       "      <th>2</th>\n",
       "      <td>536365</td>\n",
       "      <td>84406B</td>\n",
       "      <td>cream cupid hearts coat hanger</td>\n",
       "      <td>8</td>\n",
       "      <td>2010-12-01 08:26:00</td>\n",
       "      <td>2.75</td>\n",
       "      <td>17850.0</td>\n",
       "      <td>United Kingdom</td>\n",
       "      <td>22.00</td>\n",
       "    </tr>\n",
       "    <tr>\n",
       "      <th>3</th>\n",
       "      <td>536365</td>\n",
       "      <td>84029G</td>\n",
       "      <td>knitted union flag hot water bottle</td>\n",
       "      <td>6</td>\n",
       "      <td>2010-12-01 08:26:00</td>\n",
       "      <td>3.39</td>\n",
       "      <td>17850.0</td>\n",
       "      <td>United Kingdom</td>\n",
       "      <td>20.34</td>\n",
       "    </tr>\n",
       "    <tr>\n",
       "      <th>4</th>\n",
       "      <td>536365</td>\n",
       "      <td>84029E</td>\n",
       "      <td>red woolly hottie white heart.</td>\n",
       "      <td>6</td>\n",
       "      <td>2010-12-01 08:26:00</td>\n",
       "      <td>3.39</td>\n",
       "      <td>17850.0</td>\n",
       "      <td>United Kingdom</td>\n",
       "      <td>20.34</td>\n",
       "    </tr>\n",
       "  </tbody>\n",
       "</table>\n",
       "</div>"
      ],
      "text/plain": [
       "   InvoiceNo StockCode                          Description  Quantity  \\\n",
       "0     536365    85123A   white hanging heart t-light holder         6   \n",
       "1     536365     71053                  white metal lantern         6   \n",
       "2     536365    84406B       cream cupid hearts coat hanger         8   \n",
       "3     536365    84029G  knitted union flag hot water bottle         6   \n",
       "4     536365    84029E       red woolly hottie white heart.         6   \n",
       "\n",
       "           InvoiceDate  UnitPrice  CustomerID         Country  TotalPrice  \n",
       "0  2010-12-01 08:26:00       2.55     17850.0  United Kingdom       15.30  \n",
       "1  2010-12-01 08:26:00       3.39     17850.0  United Kingdom       20.34  \n",
       "2  2010-12-01 08:26:00       2.75     17850.0  United Kingdom       22.00  \n",
       "3  2010-12-01 08:26:00       3.39     17850.0  United Kingdom       20.34  \n",
       "4  2010-12-01 08:26:00       3.39     17850.0  United Kingdom       20.34  "
      ]
     },
     "metadata": {},
     "output_type": "display_data"
    },
    {
     "name": "stdout",
     "output_type": "stream",
     "text": [
      "-----------------------------------------------------------------------------------------------------------------------------\n",
      "shape is (392735, 9)\n",
      "-----------------------------------------------------------------------------------------------------------------------------\n",
      "<class 'pandas.core.frame.DataFrame'>\n",
      "RangeIndex: 392735 entries, 0 to 392734\n",
      "Data columns (total 9 columns):\n",
      " #   Column       Non-Null Count   Dtype  \n",
      "---  ------       --------------   -----  \n",
      " 0   InvoiceNo    392735 non-null  int64  \n",
      " 1   StockCode    392735 non-null  object \n",
      " 2   Description  392735 non-null  object \n",
      " 3   Quantity     392735 non-null  int64  \n",
      " 4   InvoiceDate  392735 non-null  object \n",
      " 5   UnitPrice    392735 non-null  float64\n",
      " 6   CustomerID   392735 non-null  float64\n",
      " 7   Country      392735 non-null  object \n",
      " 8   TotalPrice   392735 non-null  float64\n",
      "dtypes: float64(3), int64(2), object(4)\n",
      "memory usage: 27.0+ MB\n",
      "None\n"
     ]
    }
   ],
   "source": [
    "display(rfm.head())\n",
    "print(\"-\"*125)\n",
    "print(f\"shape is {rfm.shape}\")\n",
    "print(\"-\"*125)\n",
    "print(rfm.info())"
   ]
  },
  {
   "cell_type": "code",
   "execution_count": 73,
   "id": "421fe6d0",
   "metadata": {},
   "outputs": [
    {
     "data": {
      "text/plain": [
       "Series([], dtype: int64)"
      ]
     },
     "execution_count": 73,
     "metadata": {},
     "output_type": "execute_result"
    }
   ],
   "source": [
    "rfm.isnull().sum()[rfm.isnull().sum()>0]"
   ]
  },
  {
   "cell_type": "code",
   "execution_count": 74,
   "id": "ead6438e",
   "metadata": {},
   "outputs": [],
   "source": [
    "# converting InvoiceDate to datetime format\n",
    "rfm['InvoiceDate'] = pd.to_datetime(rfm['InvoiceDate'])\n",
    "rfm['InvoiceDate'] = rfm['InvoiceDate'].dt.date"
   ]
  },
  {
   "cell_type": "code",
   "execution_count": 75,
   "id": "3ff06433",
   "metadata": {},
   "outputs": [
    {
     "data": {
      "text/plain": [
       "datetime.date(2011, 12, 9)"
      ]
     },
     "execution_count": 75,
     "metadata": {},
     "output_type": "execute_result"
    }
   ],
   "source": [
    "# We will consider max InvoiceDate of all invoices as current date for calculating the recency\n",
    "current_date = rfm['InvoiceDate'].max()\n",
    "current_date"
   ]
  },
  {
   "cell_type": "markdown",
   "id": "65d02ce6",
   "metadata": {},
   "source": [
    "# Recency\n",
    "Recency tells how much time has elapsed since a customer’s last activity or transaction"
   ]
  },
  {
   "cell_type": "code",
   "execution_count": 76,
   "id": "c7f9a626",
   "metadata": {},
   "outputs": [
    {
     "data": {
      "text/html": [
       "<div>\n",
       "<style scoped>\n",
       "    .dataframe tbody tr th:only-of-type {\n",
       "        vertical-align: middle;\n",
       "    }\n",
       "\n",
       "    .dataframe tbody tr th {\n",
       "        vertical-align: top;\n",
       "    }\n",
       "\n",
       "    .dataframe thead th {\n",
       "        text-align: right;\n",
       "    }\n",
       "</style>\n",
       "<table border=\"1\" class=\"dataframe\">\n",
       "  <thead>\n",
       "    <tr style=\"text-align: right;\">\n",
       "      <th></th>\n",
       "      <th>CustomerID</th>\n",
       "      <th>recency</th>\n",
       "    </tr>\n",
       "  </thead>\n",
       "  <tbody>\n",
       "    <tr>\n",
       "      <th>0</th>\n",
       "      <td>12347.0</td>\n",
       "      <td>2</td>\n",
       "    </tr>\n",
       "    <tr>\n",
       "      <th>1</th>\n",
       "      <td>12348.0</td>\n",
       "      <td>75</td>\n",
       "    </tr>\n",
       "    <tr>\n",
       "      <th>2</th>\n",
       "      <td>12349.0</td>\n",
       "      <td>18</td>\n",
       "    </tr>\n",
       "    <tr>\n",
       "      <th>3</th>\n",
       "      <td>12350.0</td>\n",
       "      <td>310</td>\n",
       "    </tr>\n",
       "    <tr>\n",
       "      <th>4</th>\n",
       "      <td>12352.0</td>\n",
       "      <td>36</td>\n",
       "    </tr>\n",
       "    <tr>\n",
       "      <th>...</th>\n",
       "      <td>...</td>\n",
       "      <td>...</td>\n",
       "    </tr>\n",
       "    <tr>\n",
       "      <th>4293</th>\n",
       "      <td>18280.0</td>\n",
       "      <td>277</td>\n",
       "    </tr>\n",
       "    <tr>\n",
       "      <th>4294</th>\n",
       "      <td>18281.0</td>\n",
       "      <td>180</td>\n",
       "    </tr>\n",
       "    <tr>\n",
       "      <th>4295</th>\n",
       "      <td>18282.0</td>\n",
       "      <td>7</td>\n",
       "    </tr>\n",
       "    <tr>\n",
       "      <th>4296</th>\n",
       "      <td>18283.0</td>\n",
       "      <td>3</td>\n",
       "    </tr>\n",
       "    <tr>\n",
       "      <th>4297</th>\n",
       "      <td>18287.0</td>\n",
       "      <td>42</td>\n",
       "    </tr>\n",
       "  </tbody>\n",
       "</table>\n",
       "<p>4298 rows × 2 columns</p>\n",
       "</div>"
      ],
      "text/plain": [
       "      CustomerID  recency\n",
       "0        12347.0        2\n",
       "1        12348.0       75\n",
       "2        12349.0       18\n",
       "3        12350.0      310\n",
       "4        12352.0       36\n",
       "...          ...      ...\n",
       "4293     18280.0      277\n",
       "4294     18281.0      180\n",
       "4295     18282.0        7\n",
       "4296     18283.0        3\n",
       "4297     18287.0       42\n",
       "\n",
       "[4298 rows x 2 columns]"
      ]
     },
     "execution_count": 76,
     "metadata": {},
     "output_type": "execute_result"
    }
   ],
   "source": [
    "recency_df = rfm.groupby('CustomerID').InvoiceDate.max().reset_index()\n",
    "recency_df['recency'] = [(current_date - x).days for x in recency_df['InvoiceDate']]\n",
    "recency_df = recency_df.drop('InvoiceDate', axis = 1)\n",
    "recency_df"
   ]
  },
  {
   "cell_type": "markdown",
   "id": "5e00a5f9",
   "metadata": {},
   "source": [
    "# Frequency\n",
    "Frequency tells how often has a customer transacted or interacted"
   ]
  },
  {
   "cell_type": "code",
   "execution_count": 77,
   "id": "04400e80",
   "metadata": {},
   "outputs": [
    {
     "data": {
      "text/html": [
       "<div>\n",
       "<style scoped>\n",
       "    .dataframe tbody tr th:only-of-type {\n",
       "        vertical-align: middle;\n",
       "    }\n",
       "\n",
       "    .dataframe tbody tr th {\n",
       "        vertical-align: top;\n",
       "    }\n",
       "\n",
       "    .dataframe thead th {\n",
       "        text-align: right;\n",
       "    }\n",
       "</style>\n",
       "<table border=\"1\" class=\"dataframe\">\n",
       "  <thead>\n",
       "    <tr style=\"text-align: right;\">\n",
       "      <th></th>\n",
       "      <th>CustomerID</th>\n",
       "      <th>frequency</th>\n",
       "    </tr>\n",
       "  </thead>\n",
       "  <tbody>\n",
       "    <tr>\n",
       "      <th>0</th>\n",
       "      <td>12347.0</td>\n",
       "      <td>7</td>\n",
       "    </tr>\n",
       "    <tr>\n",
       "      <th>1</th>\n",
       "      <td>12348.0</td>\n",
       "      <td>4</td>\n",
       "    </tr>\n",
       "    <tr>\n",
       "      <th>2</th>\n",
       "      <td>12349.0</td>\n",
       "      <td>1</td>\n",
       "    </tr>\n",
       "    <tr>\n",
       "      <th>3</th>\n",
       "      <td>12350.0</td>\n",
       "      <td>1</td>\n",
       "    </tr>\n",
       "    <tr>\n",
       "      <th>4</th>\n",
       "      <td>12352.0</td>\n",
       "      <td>7</td>\n",
       "    </tr>\n",
       "    <tr>\n",
       "      <th>...</th>\n",
       "      <td>...</td>\n",
       "      <td>...</td>\n",
       "    </tr>\n",
       "    <tr>\n",
       "      <th>4293</th>\n",
       "      <td>18280.0</td>\n",
       "      <td>1</td>\n",
       "    </tr>\n",
       "    <tr>\n",
       "      <th>4294</th>\n",
       "      <td>18281.0</td>\n",
       "      <td>1</td>\n",
       "    </tr>\n",
       "    <tr>\n",
       "      <th>4295</th>\n",
       "      <td>18282.0</td>\n",
       "      <td>2</td>\n",
       "    </tr>\n",
       "    <tr>\n",
       "      <th>4296</th>\n",
       "      <td>18283.0</td>\n",
       "      <td>16</td>\n",
       "    </tr>\n",
       "    <tr>\n",
       "      <th>4297</th>\n",
       "      <td>18287.0</td>\n",
       "      <td>3</td>\n",
       "    </tr>\n",
       "  </tbody>\n",
       "</table>\n",
       "<p>4298 rows × 2 columns</p>\n",
       "</div>"
      ],
      "text/plain": [
       "      CustomerID  frequency\n",
       "0        12347.0          7\n",
       "1        12348.0          4\n",
       "2        12349.0          1\n",
       "3        12350.0          1\n",
       "4        12352.0          7\n",
       "...          ...        ...\n",
       "4293     18280.0          1\n",
       "4294     18281.0          1\n",
       "4295     18282.0          2\n",
       "4296     18283.0         16\n",
       "4297     18287.0          3\n",
       "\n",
       "[4298 rows x 2 columns]"
      ]
     },
     "execution_count": 77,
     "metadata": {},
     "output_type": "execute_result"
    }
   ],
   "source": [
    "frequency_df= rfm.groupby('CustomerID').InvoiceNo.nunique().reset_index()\n",
    "frequency_df = frequency_df.rename(columns={'InvoiceNo':'frequency'})\n",
    "frequency_df"
   ]
  },
  {
   "cell_type": "markdown",
   "id": "df34bca3",
   "metadata": {},
   "source": [
    "# Monetary value\n",
    "Monetary value tells how much a customer has spent"
   ]
  },
  {
   "cell_type": "code",
   "execution_count": 78,
   "id": "07b3c1b7",
   "metadata": {},
   "outputs": [
    {
     "data": {
      "text/html": [
       "<div>\n",
       "<style scoped>\n",
       "    .dataframe tbody tr th:only-of-type {\n",
       "        vertical-align: middle;\n",
       "    }\n",
       "\n",
       "    .dataframe tbody tr th {\n",
       "        vertical-align: top;\n",
       "    }\n",
       "\n",
       "    .dataframe thead th {\n",
       "        text-align: right;\n",
       "    }\n",
       "</style>\n",
       "<table border=\"1\" class=\"dataframe\">\n",
       "  <thead>\n",
       "    <tr style=\"text-align: right;\">\n",
       "      <th></th>\n",
       "      <th>CustomerID</th>\n",
       "      <th>MonetaryValue</th>\n",
       "    </tr>\n",
       "  </thead>\n",
       "  <tbody>\n",
       "    <tr>\n",
       "      <th>0</th>\n",
       "      <td>12347.0</td>\n",
       "      <td>4060.40</td>\n",
       "    </tr>\n",
       "    <tr>\n",
       "      <th>1</th>\n",
       "      <td>12348.0</td>\n",
       "      <td>1437.24</td>\n",
       "    </tr>\n",
       "    <tr>\n",
       "      <th>2</th>\n",
       "      <td>12349.0</td>\n",
       "      <td>1417.60</td>\n",
       "    </tr>\n",
       "    <tr>\n",
       "      <th>3</th>\n",
       "      <td>12350.0</td>\n",
       "      <td>294.40</td>\n",
       "    </tr>\n",
       "    <tr>\n",
       "      <th>4</th>\n",
       "      <td>12352.0</td>\n",
       "      <td>1385.74</td>\n",
       "    </tr>\n",
       "    <tr>\n",
       "      <th>...</th>\n",
       "      <td>...</td>\n",
       "      <td>...</td>\n",
       "    </tr>\n",
       "    <tr>\n",
       "      <th>4293</th>\n",
       "      <td>18280.0</td>\n",
       "      <td>180.60</td>\n",
       "    </tr>\n",
       "    <tr>\n",
       "      <th>4294</th>\n",
       "      <td>18281.0</td>\n",
       "      <td>80.82</td>\n",
       "    </tr>\n",
       "    <tr>\n",
       "      <th>4295</th>\n",
       "      <td>18282.0</td>\n",
       "      <td>178.05</td>\n",
       "    </tr>\n",
       "    <tr>\n",
       "      <th>4296</th>\n",
       "      <td>18283.0</td>\n",
       "      <td>2088.93</td>\n",
       "    </tr>\n",
       "    <tr>\n",
       "      <th>4297</th>\n",
       "      <td>18287.0</td>\n",
       "      <td>1837.28</td>\n",
       "    </tr>\n",
       "  </tbody>\n",
       "</table>\n",
       "<p>4298 rows × 2 columns</p>\n",
       "</div>"
      ],
      "text/plain": [
       "      CustomerID  MonetaryValue\n",
       "0        12347.0        4060.40\n",
       "1        12348.0        1437.24\n",
       "2        12349.0        1417.60\n",
       "3        12350.0         294.40\n",
       "4        12352.0        1385.74\n",
       "...          ...            ...\n",
       "4293     18280.0         180.60\n",
       "4294     18281.0          80.82\n",
       "4295     18282.0         178.05\n",
       "4296     18283.0        2088.93\n",
       "4297     18287.0        1837.28\n",
       "\n",
       "[4298 rows x 2 columns]"
      ]
     },
     "execution_count": 78,
     "metadata": {},
     "output_type": "execute_result"
    }
   ],
   "source": [
    "monetary_df = rfm.groupby('CustomerID').TotalPrice.sum().reset_index()\n",
    "monetary_df = monetary_df.rename(columns={'TotalPrice':'MonetaryValue'})\n",
    "monetary_df"
   ]
  },
  {
   "cell_type": "markdown",
   "id": "c2fdd438",
   "metadata": {},
   "source": [
    "# Q.9 a) Calculate RFM scores.Each customer will get a note between 1 and 5 for each parameter for Recency(R), Frequency(F) and Monetary value(M)"
   ]
  },
  {
   "cell_type": "code",
   "execution_count": 79,
   "id": "6ac1ce10",
   "metadata": {},
   "outputs": [],
   "source": [
    "def scale_recency(x):\n",
    "    if x <= 30:\n",
    "        return 1\n",
    "    elif x > 30 and x <= 60:\n",
    "        return 2\n",
    "    elif x > 60 and x <= 90:\n",
    "        return 3 \n",
    "    elif x > 90 and x <= 180:\n",
    "        return 4\n",
    "    elif x > 181 :\n",
    "        return 5"
   ]
  },
  {
   "cell_type": "code",
   "execution_count": 80,
   "id": "722b2587",
   "metadata": {},
   "outputs": [],
   "source": [
    "# recency_scale\n",
    "recency_df['recency_scale'] = [scale_recency(x) for x in recency_df.recency]"
   ]
  },
  {
   "cell_type": "code",
   "execution_count": 81,
   "id": "0b3ff025",
   "metadata": {},
   "outputs": [
    {
     "data": {
      "text/html": [
       "<div>\n",
       "<style scoped>\n",
       "    .dataframe tbody tr th:only-of-type {\n",
       "        vertical-align: middle;\n",
       "    }\n",
       "\n",
       "    .dataframe tbody tr th {\n",
       "        vertical-align: top;\n",
       "    }\n",
       "\n",
       "    .dataframe thead th {\n",
       "        text-align: right;\n",
       "    }\n",
       "</style>\n",
       "<table border=\"1\" class=\"dataframe\">\n",
       "  <thead>\n",
       "    <tr style=\"text-align: right;\">\n",
       "      <th></th>\n",
       "      <th>CustomerID</th>\n",
       "      <th>recency</th>\n",
       "      <th>recency_scale</th>\n",
       "    </tr>\n",
       "  </thead>\n",
       "  <tbody>\n",
       "    <tr>\n",
       "      <th>0</th>\n",
       "      <td>12347.0</td>\n",
       "      <td>2</td>\n",
       "      <td>1</td>\n",
       "    </tr>\n",
       "    <tr>\n",
       "      <th>1</th>\n",
       "      <td>12348.0</td>\n",
       "      <td>75</td>\n",
       "      <td>3</td>\n",
       "    </tr>\n",
       "  </tbody>\n",
       "</table>\n",
       "</div>"
      ],
      "text/plain": [
       "   CustomerID  recency  recency_scale\n",
       "0     12347.0        2              1\n",
       "1     12348.0       75              3"
      ]
     },
     "execution_count": 81,
     "metadata": {},
     "output_type": "execute_result"
    }
   ],
   "source": [
    "recency_df.head(2)"
   ]
  },
  {
   "cell_type": "code",
   "execution_count": 82,
   "id": "1751f794",
   "metadata": {},
   "outputs": [],
   "source": [
    "# we will scale frequency and monetary_value based on theri percentile\n",
    "def quantile_scale(x, df, col):\n",
    "    if x <= df[col].quantile(0.2):\n",
    "        return 1\n",
    "    elif x > df[col].quantile(0.2) and x <= df[col].quantile(0.4):\n",
    "        return 2\n",
    "    elif x > df[col].quantile(0.4) and x <= df[col].quantile(0.6):\n",
    "        return 3\n",
    "    elif x > df[col].quantile(0.6) and x <= df[col].quantile(0.8):\n",
    "        return 4\n",
    "    elif x > df[col].quantile(0.8):\n",
    "        return 5"
   ]
  },
  {
   "cell_type": "code",
   "execution_count": 83,
   "id": "4c710841",
   "metadata": {},
   "outputs": [],
   "source": [
    "# frequency_scale\n",
    "frequency_df['frequency_scale'] = [quantile_scale(x, frequency_df, 'frequency') for x in frequency_df.frequency ]"
   ]
  },
  {
   "cell_type": "code",
   "execution_count": 84,
   "id": "883bb4ea",
   "metadata": {},
   "outputs": [
    {
     "data": {
      "text/html": [
       "<div>\n",
       "<style scoped>\n",
       "    .dataframe tbody tr th:only-of-type {\n",
       "        vertical-align: middle;\n",
       "    }\n",
       "\n",
       "    .dataframe tbody tr th {\n",
       "        vertical-align: top;\n",
       "    }\n",
       "\n",
       "    .dataframe thead th {\n",
       "        text-align: right;\n",
       "    }\n",
       "</style>\n",
       "<table border=\"1\" class=\"dataframe\">\n",
       "  <thead>\n",
       "    <tr style=\"text-align: right;\">\n",
       "      <th></th>\n",
       "      <th>CustomerID</th>\n",
       "      <th>frequency</th>\n",
       "      <th>frequency_scale</th>\n",
       "    </tr>\n",
       "  </thead>\n",
       "  <tbody>\n",
       "    <tr>\n",
       "      <th>0</th>\n",
       "      <td>12347.0</td>\n",
       "      <td>7</td>\n",
       "      <td>5</td>\n",
       "    </tr>\n",
       "    <tr>\n",
       "      <th>1</th>\n",
       "      <td>12348.0</td>\n",
       "      <td>4</td>\n",
       "      <td>4</td>\n",
       "    </tr>\n",
       "    <tr>\n",
       "      <th>2</th>\n",
       "      <td>12349.0</td>\n",
       "      <td>1</td>\n",
       "      <td>1</td>\n",
       "    </tr>\n",
       "    <tr>\n",
       "      <th>3</th>\n",
       "      <td>12350.0</td>\n",
       "      <td>1</td>\n",
       "      <td>1</td>\n",
       "    </tr>\n",
       "    <tr>\n",
       "      <th>4</th>\n",
       "      <td>12352.0</td>\n",
       "      <td>7</td>\n",
       "      <td>5</td>\n",
       "    </tr>\n",
       "    <tr>\n",
       "      <th>...</th>\n",
       "      <td>...</td>\n",
       "      <td>...</td>\n",
       "      <td>...</td>\n",
       "    </tr>\n",
       "    <tr>\n",
       "      <th>4293</th>\n",
       "      <td>18280.0</td>\n",
       "      <td>1</td>\n",
       "      <td>1</td>\n",
       "    </tr>\n",
       "    <tr>\n",
       "      <th>4294</th>\n",
       "      <td>18281.0</td>\n",
       "      <td>1</td>\n",
       "      <td>1</td>\n",
       "    </tr>\n",
       "    <tr>\n",
       "      <th>4295</th>\n",
       "      <td>18282.0</td>\n",
       "      <td>2</td>\n",
       "      <td>2</td>\n",
       "    </tr>\n",
       "    <tr>\n",
       "      <th>4296</th>\n",
       "      <td>18283.0</td>\n",
       "      <td>16</td>\n",
       "      <td>5</td>\n",
       "    </tr>\n",
       "    <tr>\n",
       "      <th>4297</th>\n",
       "      <td>18287.0</td>\n",
       "      <td>3</td>\n",
       "      <td>3</td>\n",
       "    </tr>\n",
       "  </tbody>\n",
       "</table>\n",
       "<p>4298 rows × 3 columns</p>\n",
       "</div>"
      ],
      "text/plain": [
       "      CustomerID  frequency  frequency_scale\n",
       "0        12347.0          7                5\n",
       "1        12348.0          4                4\n",
       "2        12349.0          1                1\n",
       "3        12350.0          1                1\n",
       "4        12352.0          7                5\n",
       "...          ...        ...              ...\n",
       "4293     18280.0          1                1\n",
       "4294     18281.0          1                1\n",
       "4295     18282.0          2                2\n",
       "4296     18283.0         16                5\n",
       "4297     18287.0          3                3\n",
       "\n",
       "[4298 rows x 3 columns]"
      ]
     },
     "execution_count": 84,
     "metadata": {},
     "output_type": "execute_result"
    }
   ],
   "source": [
    "frequency_df"
   ]
  },
  {
   "cell_type": "code",
   "execution_count": 85,
   "id": "b58c6359",
   "metadata": {},
   "outputs": [],
   "source": [
    "# MonetaryValue_scale\n",
    "monetary_df['MonetaryValue_scale'] = [quantile_scale(x, monetary_df, 'MonetaryValue') for x in monetary_df.MonetaryValue]"
   ]
  },
  {
   "cell_type": "code",
   "execution_count": 86,
   "id": "03b2f32c",
   "metadata": {},
   "outputs": [
    {
     "data": {
      "text/html": [
       "<div>\n",
       "<style scoped>\n",
       "    .dataframe tbody tr th:only-of-type {\n",
       "        vertical-align: middle;\n",
       "    }\n",
       "\n",
       "    .dataframe tbody tr th {\n",
       "        vertical-align: top;\n",
       "    }\n",
       "\n",
       "    .dataframe thead th {\n",
       "        text-align: right;\n",
       "    }\n",
       "</style>\n",
       "<table border=\"1\" class=\"dataframe\">\n",
       "  <thead>\n",
       "    <tr style=\"text-align: right;\">\n",
       "      <th></th>\n",
       "      <th>CustomerID</th>\n",
       "      <th>MonetaryValue</th>\n",
       "      <th>MonetaryValue_scale</th>\n",
       "    </tr>\n",
       "  </thead>\n",
       "  <tbody>\n",
       "    <tr>\n",
       "      <th>0</th>\n",
       "      <td>12347.0</td>\n",
       "      <td>4060.40</td>\n",
       "      <td>5</td>\n",
       "    </tr>\n",
       "    <tr>\n",
       "      <th>1</th>\n",
       "      <td>12348.0</td>\n",
       "      <td>1437.24</td>\n",
       "      <td>4</td>\n",
       "    </tr>\n",
       "    <tr>\n",
       "      <th>2</th>\n",
       "      <td>12349.0</td>\n",
       "      <td>1417.60</td>\n",
       "      <td>4</td>\n",
       "    </tr>\n",
       "    <tr>\n",
       "      <th>3</th>\n",
       "      <td>12350.0</td>\n",
       "      <td>294.40</td>\n",
       "      <td>2</td>\n",
       "    </tr>\n",
       "    <tr>\n",
       "      <th>4</th>\n",
       "      <td>12352.0</td>\n",
       "      <td>1385.74</td>\n",
       "      <td>4</td>\n",
       "    </tr>\n",
       "    <tr>\n",
       "      <th>...</th>\n",
       "      <td>...</td>\n",
       "      <td>...</td>\n",
       "      <td>...</td>\n",
       "    </tr>\n",
       "    <tr>\n",
       "      <th>4293</th>\n",
       "      <td>18280.0</td>\n",
       "      <td>180.60</td>\n",
       "      <td>1</td>\n",
       "    </tr>\n",
       "    <tr>\n",
       "      <th>4294</th>\n",
       "      <td>18281.0</td>\n",
       "      <td>80.82</td>\n",
       "      <td>1</td>\n",
       "    </tr>\n",
       "    <tr>\n",
       "      <th>4295</th>\n",
       "      <td>18282.0</td>\n",
       "      <td>178.05</td>\n",
       "      <td>1</td>\n",
       "    </tr>\n",
       "    <tr>\n",
       "      <th>4296</th>\n",
       "      <td>18283.0</td>\n",
       "      <td>2088.93</td>\n",
       "      <td>5</td>\n",
       "    </tr>\n",
       "    <tr>\n",
       "      <th>4297</th>\n",
       "      <td>18287.0</td>\n",
       "      <td>1837.28</td>\n",
       "      <td>4</td>\n",
       "    </tr>\n",
       "  </tbody>\n",
       "</table>\n",
       "<p>4298 rows × 3 columns</p>\n",
       "</div>"
      ],
      "text/plain": [
       "      CustomerID  MonetaryValue  MonetaryValue_scale\n",
       "0        12347.0        4060.40                    5\n",
       "1        12348.0        1437.24                    4\n",
       "2        12349.0        1417.60                    4\n",
       "3        12350.0         294.40                    2\n",
       "4        12352.0        1385.74                    4\n",
       "...          ...            ...                  ...\n",
       "4293     18280.0         180.60                    1\n",
       "4294     18281.0          80.82                    1\n",
       "4295     18282.0         178.05                    1\n",
       "4296     18283.0        2088.93                    5\n",
       "4297     18287.0        1837.28                    4\n",
       "\n",
       "[4298 rows x 3 columns]"
      ]
     },
     "execution_count": 86,
     "metadata": {},
     "output_type": "execute_result"
    }
   ],
   "source": [
    "monetary_df"
   ]
  },
  {
   "cell_type": "code",
   "execution_count": 87,
   "id": "6c056319",
   "metadata": {},
   "outputs": [],
   "source": [
    "rf_df = pd.merge(recency_df,frequency_df, on = 'CustomerID')"
   ]
  },
  {
   "cell_type": "code",
   "execution_count": 88,
   "id": "1c406a66",
   "metadata": {},
   "outputs": [],
   "source": [
    "rfm_df = pd.merge(rf_df,monetary_df, on = 'CustomerID')"
   ]
  },
  {
   "cell_type": "code",
   "execution_count": 89,
   "id": "0d461165",
   "metadata": {},
   "outputs": [],
   "source": [
    "rfm_df.rename(columns={'recency_scale':'R','frequency_scale':'F','MonetaryValue_scale':'M'}, inplace=True)"
   ]
  },
  {
   "cell_type": "code",
   "execution_count": 90,
   "id": "494858ba",
   "metadata": {},
   "outputs": [],
   "source": [
    "rfm_df['rfm_score'] = rfm_df.R.astype(str)+rfm_df.F.astype(str)+rfm_df.M.astype(str)"
   ]
  },
  {
   "cell_type": "code",
   "execution_count": 91,
   "id": "ff50291c",
   "metadata": {},
   "outputs": [
    {
     "data": {
      "text/html": [
       "<div>\n",
       "<style scoped>\n",
       "    .dataframe tbody tr th:only-of-type {\n",
       "        vertical-align: middle;\n",
       "    }\n",
       "\n",
       "    .dataframe tbody tr th {\n",
       "        vertical-align: top;\n",
       "    }\n",
       "\n",
       "    .dataframe thead th {\n",
       "        text-align: right;\n",
       "    }\n",
       "</style>\n",
       "<table border=\"1\" class=\"dataframe\">\n",
       "  <thead>\n",
       "    <tr style=\"text-align: right;\">\n",
       "      <th></th>\n",
       "      <th>CustomerID</th>\n",
       "      <th>recency</th>\n",
       "      <th>R</th>\n",
       "      <th>frequency</th>\n",
       "      <th>F</th>\n",
       "      <th>MonetaryValue</th>\n",
       "      <th>M</th>\n",
       "      <th>rfm_score</th>\n",
       "    </tr>\n",
       "  </thead>\n",
       "  <tbody>\n",
       "    <tr>\n",
       "      <th>0</th>\n",
       "      <td>12347.0</td>\n",
       "      <td>2</td>\n",
       "      <td>1</td>\n",
       "      <td>7</td>\n",
       "      <td>5</td>\n",
       "      <td>4060.40</td>\n",
       "      <td>5</td>\n",
       "      <td>155</td>\n",
       "    </tr>\n",
       "    <tr>\n",
       "      <th>1</th>\n",
       "      <td>12348.0</td>\n",
       "      <td>75</td>\n",
       "      <td>3</td>\n",
       "      <td>4</td>\n",
       "      <td>4</td>\n",
       "      <td>1437.24</td>\n",
       "      <td>4</td>\n",
       "      <td>344</td>\n",
       "    </tr>\n",
       "    <tr>\n",
       "      <th>2</th>\n",
       "      <td>12349.0</td>\n",
       "      <td>18</td>\n",
       "      <td>1</td>\n",
       "      <td>1</td>\n",
       "      <td>1</td>\n",
       "      <td>1417.60</td>\n",
       "      <td>4</td>\n",
       "      <td>114</td>\n",
       "    </tr>\n",
       "    <tr>\n",
       "      <th>3</th>\n",
       "      <td>12350.0</td>\n",
       "      <td>310</td>\n",
       "      <td>5</td>\n",
       "      <td>1</td>\n",
       "      <td>1</td>\n",
       "      <td>294.40</td>\n",
       "      <td>2</td>\n",
       "      <td>512</td>\n",
       "    </tr>\n",
       "    <tr>\n",
       "      <th>4</th>\n",
       "      <td>12352.0</td>\n",
       "      <td>36</td>\n",
       "      <td>2</td>\n",
       "      <td>7</td>\n",
       "      <td>5</td>\n",
       "      <td>1385.74</td>\n",
       "      <td>4</td>\n",
       "      <td>254</td>\n",
       "    </tr>\n",
       "  </tbody>\n",
       "</table>\n",
       "</div>"
      ],
      "text/plain": [
       "   CustomerID  recency  R  frequency  F  MonetaryValue  M rfm_score\n",
       "0     12347.0        2  1          7  5        4060.40  5       155\n",
       "1     12348.0       75  3          4  4        1437.24  4       344\n",
       "2     12349.0       18  1          1  1        1417.60  4       114\n",
       "3     12350.0      310  5          1  1         294.40  2       512\n",
       "4     12352.0       36  2          7  5        1385.74  4       254"
      ]
     },
     "execution_count": 91,
     "metadata": {},
     "output_type": "execute_result"
    }
   ],
   "source": [
    "rfm_df.head()"
   ]
  },
  {
   "cell_type": "markdown",
   "id": "85ef5005",
   "metadata": {},
   "source": [
    "# b) Segment the customers based on their RFM scores using the dataset?"
   ]
  },
  {
   "cell_type": "markdown",
   "id": "3f1384a6",
   "metadata": {},
   "source": [
    "Segments with RFM score range:\n",
    "\n",
    "- Champions: RFM score range - R: 4-5, F: 4-5, M: 4-5\n",
    "- Loyal customers: RFM score range - R: 3-5, F: 3-5, M: 3-5\n",
    "-Potential loyalist: RFM score range - R: 4-5, F: 2-3, M: 2-3\n",
    "-Recent customers: RFM score range - R: 4-5, F: 1-2, M: 1-2\n",
    "- Promising: RFM score range - R: 4-5, F: 1-2, M: 1-2\n",
    "- Needs attention: RFM score range - R: 3-5, F: 3-5, M: 3-5\n",
    "- About to sleep: RFM score range - R: 1-2, F: 1-2, M: 1-2\n",
    "- At risk: RFM score range - R: 2-5, F: 1-3, M: 1-3\n",
    "- Can't lose them: RFM score range - R: 1-3, F: 4-5, M: 4-5\n",
    "- Hibernating: RFM score range - R: 1-2, F: 1-2, M: 1-2"
   ]
  },
  {
   "cell_type": "code",
   "execution_count": 92,
   "id": "435d2d54",
   "metadata": {},
   "outputs": [],
   "source": [
    "from itertools import product"
   ]
  },
  {
   "cell_type": "code",
   "execution_count": 93,
   "id": "2b2ca296",
   "metadata": {},
   "outputs": [],
   "source": [
    "rfm_df['Segment'] = [np.NaN for x in rfm_df.rfm_score]"
   ]
  },
  {
   "cell_type": "code",
   "execution_count": 94,
   "id": "dc482499",
   "metadata": {},
   "outputs": [],
   "source": [
    "for r in rfm_df.R.unique():\n",
    "    for f in rfm_df.F.unique():\n",
    "        for m in rfm_df.M.unique():\n",
    "            if r in range(4,6) and f in range(4,6) and m in range(4,6):\n",
    "                rfm_df.loc[(rfm_df.R == r)&(rfm_df.F == f)&(rfm_df.M == m),'Segment'] = 'Champions'\n",
    "            elif r in range(3,6) and f in range(3,6) and m in range(3,6):\n",
    "                rfm_df.loc[(rfm_df.R == r)&(rfm_df.F == f)&(rfm_df.M == m)&rfm_df['Segment'].isnull(),'Segment'] = 'Loyal customers'\n",
    "            elif r in range(4,6) and f in range(2,5) and m in range(1,4):\n",
    "                rfm_df.loc[(rfm_df.R == r)&(rfm_df.F == f)&(rfm_df.M == m)&rfm_df['Segment'].isnull(),'Segment'] = 'Potential loyalist'          \n",
    "            elif r in range(4,6) and f in range(1,3) and m in range(1,3):\n",
    "                rfm_df.loc[(rfm_df.R == r)&(rfm_df.F == f)&(rfm_df.M == m)&rfm_df['Segment'].isnull(),'Segment'] = 'Recent customers'\n",
    "            elif r in range(3,6) and f in range(1,6) and m in range(1,6):\n",
    "                rfm_df.loc[(rfm_df.R == r)&(rfm_df.F == f)&(rfm_df.M == m)&rfm_df['Segment'].isnull(),'Segment'] = 'Promising'    \n",
    "            elif r in range(3,6) and f in range(1,6) and m in range(2,6):\n",
    "                rfm_df.loc[(rfm_df.R == r)&(rfm_df.F == f)&(rfm_df.M == m)&rfm_df['Segment'].isnull(),'Segment'] = 'Needs attention'\n",
    "            elif r in range(1,3) and f in range(1,6) and m in range(1,6):\n",
    "                rfm_df.loc[(rfm_df.R == r)&(rfm_df.F == f)&(rfm_df.M == m)&rfm_df['Segment'].isnull(),'Segment'] = 'About to sleep'\n",
    "            elif r in range(1,6 ) and f in range(1,4) and m in range(1,5):\n",
    "                rfm_df.loc[(rfm_df.R == r)&(rfm_df.F == f)&(rfm_df.M == m)&rfm_df['Segment'].isnull(),'Segment'] = 'At risk'\n",
    "            elif r in range(1,4) and f in range(3,6) and m in range(4,6):\n",
    "                rfm_df.loc[(rfm_df.R == r)&(rfm_df.F == f)&(rfm_df.M == m)&rfm_df['Segment'].isnull(),'Segment'] = \"Can't lose them\"\n",
    "            elif r in range(1,3) and f in range(1,3) and m in range(1,3):\n",
    "                rfm_df.loc[(rfm_df.R == r)&(rfm_df.F == f)&(rfm_df.M == m)&rfm_df['Segment'].isnull(),'Segment'] = 'Hibernating'"
   ]
  },
  {
   "cell_type": "code",
   "execution_count": 95,
   "id": "41509548",
   "metadata": {},
   "outputs": [
    {
     "data": {
      "text/html": [
       "<div>\n",
       "<style scoped>\n",
       "    .dataframe tbody tr th:only-of-type {\n",
       "        vertical-align: middle;\n",
       "    }\n",
       "\n",
       "    .dataframe tbody tr th {\n",
       "        vertical-align: top;\n",
       "    }\n",
       "\n",
       "    .dataframe thead th {\n",
       "        text-align: right;\n",
       "    }\n",
       "</style>\n",
       "<table border=\"1\" class=\"dataframe\">\n",
       "  <thead>\n",
       "    <tr style=\"text-align: right;\">\n",
       "      <th></th>\n",
       "      <th>CustomerID</th>\n",
       "      <th>recency</th>\n",
       "      <th>R</th>\n",
       "      <th>frequency</th>\n",
       "      <th>F</th>\n",
       "      <th>MonetaryValue</th>\n",
       "      <th>M</th>\n",
       "      <th>rfm_score</th>\n",
       "      <th>Segment</th>\n",
       "    </tr>\n",
       "  </thead>\n",
       "  <tbody>\n",
       "    <tr>\n",
       "      <th>0</th>\n",
       "      <td>12347.0</td>\n",
       "      <td>2</td>\n",
       "      <td>1</td>\n",
       "      <td>7</td>\n",
       "      <td>5</td>\n",
       "      <td>4060.40</td>\n",
       "      <td>5</td>\n",
       "      <td>155</td>\n",
       "      <td>About to sleep</td>\n",
       "    </tr>\n",
       "    <tr>\n",
       "      <th>1</th>\n",
       "      <td>12348.0</td>\n",
       "      <td>75</td>\n",
       "      <td>3</td>\n",
       "      <td>4</td>\n",
       "      <td>4</td>\n",
       "      <td>1437.24</td>\n",
       "      <td>4</td>\n",
       "      <td>344</td>\n",
       "      <td>Loyal customers</td>\n",
       "    </tr>\n",
       "    <tr>\n",
       "      <th>2</th>\n",
       "      <td>12349.0</td>\n",
       "      <td>18</td>\n",
       "      <td>1</td>\n",
       "      <td>1</td>\n",
       "      <td>1</td>\n",
       "      <td>1417.60</td>\n",
       "      <td>4</td>\n",
       "      <td>114</td>\n",
       "      <td>About to sleep</td>\n",
       "    </tr>\n",
       "    <tr>\n",
       "      <th>3</th>\n",
       "      <td>12350.0</td>\n",
       "      <td>310</td>\n",
       "      <td>5</td>\n",
       "      <td>1</td>\n",
       "      <td>1</td>\n",
       "      <td>294.40</td>\n",
       "      <td>2</td>\n",
       "      <td>512</td>\n",
       "      <td>Recent customers</td>\n",
       "    </tr>\n",
       "    <tr>\n",
       "      <th>4</th>\n",
       "      <td>12352.0</td>\n",
       "      <td>36</td>\n",
       "      <td>2</td>\n",
       "      <td>7</td>\n",
       "      <td>5</td>\n",
       "      <td>1385.74</td>\n",
       "      <td>4</td>\n",
       "      <td>254</td>\n",
       "      <td>About to sleep</td>\n",
       "    </tr>\n",
       "    <tr>\n",
       "      <th>...</th>\n",
       "      <td>...</td>\n",
       "      <td>...</td>\n",
       "      <td>...</td>\n",
       "      <td>...</td>\n",
       "      <td>...</td>\n",
       "      <td>...</td>\n",
       "      <td>...</td>\n",
       "      <td>...</td>\n",
       "      <td>...</td>\n",
       "    </tr>\n",
       "    <tr>\n",
       "      <th>4293</th>\n",
       "      <td>18280.0</td>\n",
       "      <td>277</td>\n",
       "      <td>5</td>\n",
       "      <td>1</td>\n",
       "      <td>1</td>\n",
       "      <td>180.60</td>\n",
       "      <td>1</td>\n",
       "      <td>511</td>\n",
       "      <td>Recent customers</td>\n",
       "    </tr>\n",
       "    <tr>\n",
       "      <th>4294</th>\n",
       "      <td>18281.0</td>\n",
       "      <td>180</td>\n",
       "      <td>4</td>\n",
       "      <td>1</td>\n",
       "      <td>1</td>\n",
       "      <td>80.82</td>\n",
       "      <td>1</td>\n",
       "      <td>411</td>\n",
       "      <td>Recent customers</td>\n",
       "    </tr>\n",
       "    <tr>\n",
       "      <th>4295</th>\n",
       "      <td>18282.0</td>\n",
       "      <td>7</td>\n",
       "      <td>1</td>\n",
       "      <td>2</td>\n",
       "      <td>2</td>\n",
       "      <td>178.05</td>\n",
       "      <td>1</td>\n",
       "      <td>121</td>\n",
       "      <td>About to sleep</td>\n",
       "    </tr>\n",
       "    <tr>\n",
       "      <th>4296</th>\n",
       "      <td>18283.0</td>\n",
       "      <td>3</td>\n",
       "      <td>1</td>\n",
       "      <td>16</td>\n",
       "      <td>5</td>\n",
       "      <td>2088.93</td>\n",
       "      <td>5</td>\n",
       "      <td>155</td>\n",
       "      <td>About to sleep</td>\n",
       "    </tr>\n",
       "    <tr>\n",
       "      <th>4297</th>\n",
       "      <td>18287.0</td>\n",
       "      <td>42</td>\n",
       "      <td>2</td>\n",
       "      <td>3</td>\n",
       "      <td>3</td>\n",
       "      <td>1837.28</td>\n",
       "      <td>4</td>\n",
       "      <td>234</td>\n",
       "      <td>About to sleep</td>\n",
       "    </tr>\n",
       "  </tbody>\n",
       "</table>\n",
       "<p>4298 rows × 9 columns</p>\n",
       "</div>"
      ],
      "text/plain": [
       "      CustomerID  recency  R  frequency  F  MonetaryValue  M rfm_score  \\\n",
       "0        12347.0        2  1          7  5        4060.40  5       155   \n",
       "1        12348.0       75  3          4  4        1437.24  4       344   \n",
       "2        12349.0       18  1          1  1        1417.60  4       114   \n",
       "3        12350.0      310  5          1  1         294.40  2       512   \n",
       "4        12352.0       36  2          7  5        1385.74  4       254   \n",
       "...          ...      ... ..        ... ..            ... ..       ...   \n",
       "4293     18280.0      277  5          1  1         180.60  1       511   \n",
       "4294     18281.0      180  4          1  1          80.82  1       411   \n",
       "4295     18282.0        7  1          2  2         178.05  1       121   \n",
       "4296     18283.0        3  1         16  5        2088.93  5       155   \n",
       "4297     18287.0       42  2          3  3        1837.28  4       234   \n",
       "\n",
       "               Segment  \n",
       "0       About to sleep  \n",
       "1      Loyal customers  \n",
       "2       About to sleep  \n",
       "3     Recent customers  \n",
       "4       About to sleep  \n",
       "...                ...  \n",
       "4293  Recent customers  \n",
       "4294  Recent customers  \n",
       "4295    About to sleep  \n",
       "4296    About to sleep  \n",
       "4297    About to sleep  \n",
       "\n",
       "[4298 rows x 9 columns]"
      ]
     },
     "execution_count": 95,
     "metadata": {},
     "output_type": "execute_result"
    }
   ],
   "source": [
    "# overview of dataframe after segmentation\n",
    "rfm_df"
   ]
  },
  {
   "cell_type": "markdown",
   "id": "35be2743",
   "metadata": {},
   "source": [
    "# Q.10 a) Visualize the RFM segments."
   ]
  },
  {
   "cell_type": "markdown",
   "id": "562dad8d",
   "metadata": {},
   "source": [
    "# b) Conclude your findings of RFM analysis and suggest some strategies on it."
   ]
  },
  {
   "cell_type": "code",
   "execution_count": 96,
   "id": "62e6617e",
   "metadata": {},
   "outputs": [
    {
     "data": {
      "image/png": "[encoded data removed]",
      "text/plain": [
       "<Figure size 1000x1200 with 3 Axes>"
      ]
     },
     "metadata": {},
     "output_type": "display_data"
    }
   ],
   "source": [
    "#Visualizing the RFM Segements\n",
    "fig, (ax1, ax2, ax3) = plt.subplots(3, 1, figsize=(10, 12))\n",
    "sns.scatterplot(x='recency', y='frequency', hue='Segment', data=rfm_df, palette='viridis', ax = ax1)\n",
    "ax1.set_title('RF Segments')\n",
    "ax1.set_xlabel('Recency')\n",
    "ax1.set_ylabel('Frequency')\n",
    "\n",
    "sns.scatterplot(x='recency', y='MonetaryValue', hue='Segment', data=rfm_df, palette='viridis', ax=ax2)\n",
    "ax2.set_title('RM Segments')\n",
    "ax2.set_xlabel('Recency')\n",
    "ax2.set_ylabel('Monetary Value')\n",
    "\n",
    "sns.scatterplot(x='frequency', y='MonetaryValue', hue='Segment', data=rfm_df, palette='viridis', ax=ax3)\n",
    "ax3.set_title('FM Segments')\n",
    "ax3.set_xlabel('Frequency')\n",
    "ax3.set_ylabel('Monetary Value')\n",
    "\n",
    "plt.tight_layout()\n",
    "plt.show()"
   ]
  },
  {
   "cell_type": "markdown",
   "id": "e1881329",
   "metadata": {},
   "source": [
    "## Conclusion & Strategies:\n",
    "- <b>About to Sleep:</b>\n",
    "\n",
    "<b>Conclusion</b>: Low to medium recency, any frequency, and any monetary value.\n",
    "<b>Strategies</b>: Re-engage with personalized offers, reminding them of your products or services. Implement targeted marketing to bring them back into the active customer base.\n",
    "\n",
    "- <b>Loyal Customers:</b>\n",
    "\n",
    "<b>Conclusion </b>: Customers with consistently high recency, frequency, and monetary value.\n",
    "<b>Strategies</b>: Continue to nurture the relationship with personalized communications. Consider special loyalty rewards or programs to reinforce their loyalty.\n",
    "\n",
    "- <b>Recent Customers:</b>\n",
    "    \n",
    "<b>Conclusion</b>: High recency but lower frequency and monetary value.\n",
    "<b>Strategies</b>: Focus on converting recent purchases into repeat business. Offer discounts or promotions on complementary products to increase average order value.\n",
    "\n",
    "- <b>Promising:</b>\n",
    "    \n",
    "<b>Conclusion</b> : Moderate to high values in all three dimensions.\n",
    "<b>Strategies</b>: Engage with personalized marketing to push them towards becoming loyal customers. Provide incentives for more frequent and higher-value purchases.\n",
    "\n",
    "- <b>Potential Loyalist:\n",
    "    \n",
    "<b>Conclusion</b>: Show potential for increased loyalty with moderate recency, frequency, and monetary value.\n",
    "<b>Strategies</b>: Implement targeted promotions or incentives to encourage higher frequency and spending. Provide personalized recommendations based on their preferences.\n",
    "\n",
    "- <b>Champions:</b>\n",
    "    \n",
    "<b>Conclusion</b>: High recency, frequency, and monetary value suggest these are your most valuable and engaged customers.\n",
    "<b>Strategies</b>: Offer exclusive rewards, early access, or personalized loyalty programs to maintain their high level of engagement. Encourage them to refer others.\n",
    "\n"
   ]
  },
  {
   "cell_type": "code",
   "execution_count": null,
   "id": "9226bd56",
   "metadata": {},
   "outputs": [],
   "source": []
  }
 ],
 "metadata": {
  "kernelspec": {
   "display_name": "Python 3 (ipykernel)",
   "language": "python",
   "name": "python3"
  },
  "language_info": {
   "codemirror_mode": {
    "name": "ipython",
    "version": 3
   },
   "file_extension": ".py",
   "mimetype": "text/x-python",
   "name": "python",
   "nbconvert_exporter": "python",
   "pygments_lexer": "ipython3",
   "version": "3.10.9"
  }
 },
 "nbformat": 4,
 "nbformat_minor": 5
}
